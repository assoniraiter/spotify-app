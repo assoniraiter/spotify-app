{
 "cells": [
  {
   "cell_type": "markdown",
   "metadata": {},
   "source": [
    "# Spotify Popularity Prediction"
   ]
  },
  {
   "cell_type": "markdown",
   "metadata": {},
   "source": [
    "An independent record label is aiming to improve their artists album sales. To do it, they intend to apply Machine Learning in order to sculpt their songs in a more comercial way. The first attempt to do it is using Spotify Popularity feature. This feature measures a song success based on how many listenings a song had. The label firmly believe that some features can be good predictors of a song success and they want to know what are them. Also the label wants to predict with maximum accuracy how well a song will perform on Spotify every time a new song is releasen. We will create a model based on 19k songs available on Spotify and its main features, such as energy, key, loudness and many others."
   ]
  },
  {
   "cell_type": "markdown",
   "metadata": {},
   "source": [
    "## 1. Data wrangling"
   ]
  },
  {
   "cell_type": "markdown",
   "metadata": {},
   "source": [
    "The first step we are going to perform in this project is to import all the necessary libraries to data wrangling and data exploration. We need to explore our data in depth to gain knowledge about these songs features and its correlation before performing any modelling."
   ]
  },
  {
   "cell_type": "markdown",
   "metadata": {},
   "source": [
    "### 1.1 Importing data "
   ]
  },
  {
   "cell_type": "markdown",
   "metadata": {},
   "source": [
    "We'll deal with a couple of libraries in this project: NumPy, pandas, matplotlib, Seaborn and Scikit Learn. Let's import them first."
   ]
  },
  {
   "cell_type": "code",
   "execution_count": 2,
   "metadata": {},
   "outputs": [],
   "source": [
    "# Importing libraries for data wrangling and data exploration\n",
    "import numpy as np\n",
    "import pandas as pd\n",
    "import matplotlib.pyplot as plt\n",
    "import seaborn as sns\n",
    "\n",
    "# Importing necessary Scikit-Learn modules\n",
    "from sklearn.preprocessing import MinMaxScaler\n",
    "from sklearn.model_selection import train_test_split\n",
    "from sklearn.model_selection import RandomizedSearchCV\n",
    "\n",
    "# Importing benchmark model\n",
    "from sklearn.linear_model import LinearRegression\n",
    "\n",
    "# Importing comparative models\n",
    "from sklearn.neighbors import KNeighborsRegressor\n",
    "from sklearn.linear_model import Lasso\n",
    "from sklearn.linear_model import Ridge\n",
    "from sklearn.tree import DecisionTreeRegressor\n",
    "from sklearn.ensemble import RandomForestRegressor\n",
    "from sklearn.ensemble import ExtraTreesRegressor\n",
    "from sklearn.ensemble import GradientBoostingRegressor\n",
    "from sklearn.ensemble import AdaBoostRegressor\n",
    "\n",
    "# Importing metrics\n",
    "from sklearn.metrics import mean_absolute_error\n",
    "from sklearn.metrics import mean_squared_error\n",
    "from sklearn.metrics import r2_score"
   ]
  },
  {
   "cell_type": "markdown",
   "metadata": {},
   "source": [
    "Let's import our .csv file to our Jupyter Notebook. It requires some specific encoding parameters in order to be successfully read into our notebook."
   ]
  },
  {
   "cell_type": "code",
   "execution_count": 3,
   "metadata": {},
   "outputs": [
    {
     "name": "stderr",
     "output_type": "stream",
     "text": [
      "/home/ec2-user/anaconda3/envs/python3/lib/python3.6/site-packages/IPython/core/interactiveshell.py:3063: DtypeWarning: Columns (9,11) have mixed types.Specify dtype option on import or set low_memory=False.\n",
      "  interactivity=interactivity, compiler=compiler, result=result)\n"
     ]
    }
   ],
   "source": [
    "# Reading raw Spotify data\n",
    "data_raw = pd.read_csv('./19332_Spotify_Songs.csv', engine = 'c', encoding = \"ISO-8859-1\")"
   ]
  },
  {
   "cell_type": "markdown",
   "metadata": {},
   "source": [
    "Next we are going to take a general look to our dataframe in order to see if it was successfully read."
   ]
  },
  {
   "cell_type": "code",
   "execution_count": 4,
   "metadata": {},
   "outputs": [
    {
     "data": {
      "text/html": [
       "<div>\n",
       "<style scoped>\n",
       "    .dataframe tbody tr th:only-of-type {\n",
       "        vertical-align: middle;\n",
       "    }\n",
       "\n",
       "    .dataframe tbody tr th {\n",
       "        vertical-align: top;\n",
       "    }\n",
       "\n",
       "    .dataframe thead th {\n",
       "        text-align: right;\n",
       "    }\n",
       "</style>\n",
       "<table border=\"1\" class=\"dataframe\">\n",
       "  <thead>\n",
       "    <tr style=\"text-align: right;\">\n",
       "      <th></th>\n",
       "      <th>id</th>\n",
       "      <th>artists</th>\n",
       "      <th>available_markets</th>\n",
       "      <th>disc_number</th>\n",
       "      <th>duration_ms.x</th>\n",
       "      <th>explicit</th>\n",
       "      <th>href</th>\n",
       "      <th>is_local</th>\n",
       "      <th>name</th>\n",
       "      <th>popularity</th>\n",
       "      <th>...</th>\n",
       "      <th>instrumentalness</th>\n",
       "      <th>liveness</th>\n",
       "      <th>valence</th>\n",
       "      <th>tempo</th>\n",
       "      <th>type.y</th>\n",
       "      <th>uri.y</th>\n",
       "      <th>track_href</th>\n",
       "      <th>analysis_url</th>\n",
       "      <th>duration_ms.y</th>\n",
       "      <th>time_signature</th>\n",
       "    </tr>\n",
       "  </thead>\n",
       "  <tbody>\n",
       "    <tr>\n",
       "      <th>0</th>\n",
       "      <td>000xQL6tZNLJzIrtIgxqSl</td>\n",
       "      <td>https://api.spotify.com/v1/artists/5ZsFI1h6hId...</td>\n",
       "      <td>AD, AE, AL, AR, AT, AU, BA, BE, BG, BH, BO, BR...</td>\n",
       "      <td>1</td>\n",
       "      <td>188490</td>\n",
       "      <td>FALSE</td>\n",
       "      <td>https://api.spotify.com/v1/tracks/000xQL6tZNLJ...</td>\n",
       "      <td>FALSE</td>\n",
       "      <td>Still Got Time (feat. PARTYNEXTDOOR)</td>\n",
       "      <td>63</td>\n",
       "      <td>...</td>\n",
       "      <td>0.000000</td>\n",
       "      <td>0.0852</td>\n",
       "      <td>0.5240</td>\n",
       "      <td>120.963</td>\n",
       "      <td>audio_features</td>\n",
       "      <td>spotify:track:000xQL6tZNLJzIrtIgxqSl</td>\n",
       "      <td>https://api.spotify.com/v1/tracks/000xQL6tZNLJ...</td>\n",
       "      <td>https://api.spotify.com/v1/audio-analysis/000x...</td>\n",
       "      <td>188491.0</td>\n",
       "      <td>4.0</td>\n",
       "    </tr>\n",
       "    <tr>\n",
       "      <th>1</th>\n",
       "      <td>001UkMQHw4zXfFNdKpwXAF</td>\n",
       "      <td>https://api.spotify.com/v1/artists/0XKOBt59crn...</td>\n",
       "      <td>AD, AE, AL, AR, AT, AU, BA, BE, BG, BH, BO, BR...</td>\n",
       "      <td>1</td>\n",
       "      <td>191053</td>\n",
       "      <td>FALSE</td>\n",
       "      <td>https://api.spotify.com/v1/tracks/001UkMQHw4zX...</td>\n",
       "      <td>FALSE</td>\n",
       "      <td>Brand New Man - with Luke Combs</td>\n",
       "      <td>68</td>\n",
       "      <td>...</td>\n",
       "      <td>0.000079</td>\n",
       "      <td>0.2900</td>\n",
       "      <td>0.5620</td>\n",
       "      <td>127.061</td>\n",
       "      <td>audio_features</td>\n",
       "      <td>spotify:track:001UkMQHw4zXfFNdKpwXAF</td>\n",
       "      <td>https://api.spotify.com/v1/tracks/001UkMQHw4zX...</td>\n",
       "      <td>https://api.spotify.com/v1/audio-analysis/001U...</td>\n",
       "      <td>191053.0</td>\n",
       "      <td>4.0</td>\n",
       "    </tr>\n",
       "    <tr>\n",
       "      <th>2</th>\n",
       "      <td>003FTlCpBTM4eSqYSWPv4H</td>\n",
       "      <td>https://api.spotify.com/v1/artists/3vAaWhdBR38...</td>\n",
       "      <td>AD, AE, AL, AR, AT, AU, BA, BE, BG, BH, BO, BR...</td>\n",
       "      <td>1</td>\n",
       "      <td>233266</td>\n",
       "      <td>FALSE</td>\n",
       "      <td>https://api.spotify.com/v1/tracks/003FTlCpBTM4...</td>\n",
       "      <td>FALSE</td>\n",
       "      <td>Swing, Swing</td>\n",
       "      <td>67</td>\n",
       "      <td>...</td>\n",
       "      <td>0.128000</td>\n",
       "      <td>0.0385</td>\n",
       "      <td>0.3180</td>\n",
       "      <td>127.947</td>\n",
       "      <td>audio_features</td>\n",
       "      <td>spotify:track:003FTlCpBTM4eSqYSWPv4H</td>\n",
       "      <td>https://api.spotify.com/v1/tracks/003FTlCpBTM4...</td>\n",
       "      <td>https://api.spotify.com/v1/audio-analysis/003F...</td>\n",
       "      <td>233267.0</td>\n",
       "      <td>4.0</td>\n",
       "    </tr>\n",
       "    <tr>\n",
       "      <th>3</th>\n",
       "      <td>003vvx7Niy0yvhvHt4a68B</td>\n",
       "      <td>https://api.spotify.com/v1/artists/0C0XlULifJt...</td>\n",
       "      <td>AD, AE, AL, AR, AT, AU, BA, BE, BG, BH, BO, BR...</td>\n",
       "      <td>1</td>\n",
       "      <td>222973</td>\n",
       "      <td>FALSE</td>\n",
       "      <td>https://api.spotify.com/v1/tracks/003vvx7Niy0y...</td>\n",
       "      <td>FALSE</td>\n",
       "      <td>Mr. Brightside</td>\n",
       "      <td>80</td>\n",
       "      <td>...</td>\n",
       "      <td>0.000000</td>\n",
       "      <td>0.0995</td>\n",
       "      <td>0.2360</td>\n",
       "      <td>148.033</td>\n",
       "      <td>audio_features</td>\n",
       "      <td>spotify:track:003vvx7Niy0yvhvHt4a68B</td>\n",
       "      <td>https://api.spotify.com/v1/tracks/003vvx7Niy0y...</td>\n",
       "      <td>https://api.spotify.com/v1/audio-analysis/003v...</td>\n",
       "      <td>222973.0</td>\n",
       "      <td>4.0</td>\n",
       "    </tr>\n",
       "    <tr>\n",
       "      <th>4</th>\n",
       "      <td>005lwxGU1tms6HGELIcUv9</td>\n",
       "      <td>https://api.spotify.com/v1/artists/6jJ0s89eD6G...</td>\n",
       "      <td>CA, JP, US</td>\n",
       "      <td>1</td>\n",
       "      <td>179640</td>\n",
       "      <td>FALSE</td>\n",
       "      <td>https://api.spotify.com/v1/tracks/005lwxGU1tms...</td>\n",
       "      <td>FALSE</td>\n",
       "      <td>I Kissed A Girl</td>\n",
       "      <td>68</td>\n",
       "      <td>...</td>\n",
       "      <td>0.000000</td>\n",
       "      <td>0.1320</td>\n",
       "      <td>0.6960</td>\n",
       "      <td>129.996</td>\n",
       "      <td>audio_features</td>\n",
       "      <td>spotify:track:005lwxGU1tms6HGELIcUv9</td>\n",
       "      <td>https://api.spotify.com/v1/tracks/005lwxGU1tms...</td>\n",
       "      <td>https://api.spotify.com/v1/audio-analysis/005l...</td>\n",
       "      <td>179640.0</td>\n",
       "      <td>4.0</td>\n",
       "    </tr>\n",
       "    <tr>\n",
       "      <th>5</th>\n",
       "      <td>007EFIByaEW4dgEcIbfBg9</td>\n",
       "      <td>https://api.spotify.com/v1/artists/1dKdetem2xE...</td>\n",
       "      <td>AD, AE, AL, AR, AT, AU, BA, BE, BG, BH, BO, BR...</td>\n",
       "      <td>1</td>\n",
       "      <td>170626</td>\n",
       "      <td>FALSE</td>\n",
       "      <td>https://api.spotify.com/v1/tracks/007EFIByaEW4...</td>\n",
       "      <td>FALSE</td>\n",
       "      <td>Hasta Que un dÃ­</td>\n",
       "      <td>58</td>\n",
       "      <td>...</td>\n",
       "      <td>0.000000</td>\n",
       "      <td>0.1520</td>\n",
       "      <td>0.3680</td>\n",
       "      <td>134.958</td>\n",
       "      <td>audio_features</td>\n",
       "      <td>spotify:track:007EFIByaEW4dgEcIbfBg9</td>\n",
       "      <td>https://api.spotify.com/v1/tracks/007EFIByaEW4...</td>\n",
       "      <td>https://api.spotify.com/v1/audio-analysis/007E...</td>\n",
       "      <td>170627.0</td>\n",
       "      <td>4.0</td>\n",
       "    </tr>\n",
       "    <tr>\n",
       "      <th>6</th>\n",
       "      <td>009ImBOrIUlWgla8U05RAC</td>\n",
       "      <td>https://api.spotify.com/v1/artists/6jJ0s89eD6G...</td>\n",
       "      <td>AD, AE, AL, AR, AT, AU, BA, BE, BG, BH, BO, BR...</td>\n",
       "      <td>1</td>\n",
       "      <td>228878</td>\n",
       "      <td>FALSE</td>\n",
       "      <td>https://api.spotify.com/v1/tracks/009ImBOrIUlW...</td>\n",
       "      <td>FALSE</td>\n",
       "      <td>Unconditionally</td>\n",
       "      <td>70</td>\n",
       "      <td>...</td>\n",
       "      <td>0.000000</td>\n",
       "      <td>0.2080</td>\n",
       "      <td>0.3530</td>\n",
       "      <td>128.902</td>\n",
       "      <td>audio_features</td>\n",
       "      <td>spotify:track:009ImBOrIUlWgla8U05RAC</td>\n",
       "      <td>https://api.spotify.com/v1/tracks/009ImBOrIUlW...</td>\n",
       "      <td>https://api.spotify.com/v1/audio-analysis/009I...</td>\n",
       "      <td>228879.0</td>\n",
       "      <td>4.0</td>\n",
       "    </tr>\n",
       "    <tr>\n",
       "      <th>7</th>\n",
       "      <td>009thiR2SWpG6jXqXYX2AT</td>\n",
       "      <td>https://api.spotify.com/v1/artists/4qxGMBS25xD...</td>\n",
       "      <td>AD, AE, AL, AR, AT, AU, BA, BE, BG, BH, BO, BR...</td>\n",
       "      <td>1</td>\n",
       "      <td>152784</td>\n",
       "      <td>FALSE</td>\n",
       "      <td>https://api.spotify.com/v1/tracks/009thiR2SWpG...</td>\n",
       "      <td>FALSE</td>\n",
       "      <td>Cuantas Amantes</td>\n",
       "      <td>53</td>\n",
       "      <td>...</td>\n",
       "      <td>0.872000</td>\n",
       "      <td>0.1140</td>\n",
       "      <td>0.4220</td>\n",
       "      <td>93.952</td>\n",
       "      <td>audio_features</td>\n",
       "      <td>spotify:track:009thiR2SWpG6jXqXYX2AT</td>\n",
       "      <td>https://api.spotify.com/v1/tracks/009thiR2SWpG...</td>\n",
       "      <td>https://api.spotify.com/v1/audio-analysis/009t...</td>\n",
       "      <td>152784.0</td>\n",
       "      <td>4.0</td>\n",
       "    </tr>\n",
       "    <tr>\n",
       "      <th>8</th>\n",
       "      <td>00bOuKgzbRkOHmgCAL7ChZ</td>\n",
       "      <td>https://api.spotify.com/v1/artists/0QJKELJZZuL...</td>\n",
       "      <td>AD, AE, AL, AR, AT, AU, BA, BE, BG, BH, BO, BR...</td>\n",
       "      <td>1</td>\n",
       "      <td>271680</td>\n",
       "      <td>FALSE</td>\n",
       "      <td>https://api.spotify.com/v1/tracks/00bOuKgzbRkO...</td>\n",
       "      <td>FALSE</td>\n",
       "      <td>Zoning</td>\n",
       "      <td>50</td>\n",
       "      <td>...</td>\n",
       "      <td>0.408000</td>\n",
       "      <td>0.1060</td>\n",
       "      <td>0.0369</td>\n",
       "      <td>104.978</td>\n",
       "      <td>audio_features</td>\n",
       "      <td>spotify:track:00bOuKgzbRkOHmgCAL7ChZ</td>\n",
       "      <td>https://api.spotify.com/v1/tracks/00bOuKgzbRkO...</td>\n",
       "      <td>https://api.spotify.com/v1/audio-analysis/00bO...</td>\n",
       "      <td>271680.0</td>\n",
       "      <td>4.0</td>\n",
       "    </tr>\n",
       "    <tr>\n",
       "      <th>9</th>\n",
       "      <td>00c9KIdlwZUXQvhF5gz4zM</td>\n",
       "      <td>https://api.spotify.com/v1/artists/2wOqMjp9TyA...</td>\n",
       "      <td>AE, AL, AR, AT, AU, BA, BE, BG, BH, BO, BR, BY...</td>\n",
       "      <td>1</td>\n",
       "      <td>45693</td>\n",
       "      <td>FALSE</td>\n",
       "      <td>https://api.spotify.com/v1/tracks/00c9KIdlwZUX...</td>\n",
       "      <td>FALSE</td>\n",
       "      <td>15 Variations and Fugue in E-Flat Major, Op. 3...</td>\n",
       "      <td>9</td>\n",
       "      <td>...</td>\n",
       "      <td>0.941000</td>\n",
       "      <td>0.1590</td>\n",
       "      <td>0.2820</td>\n",
       "      <td>95.615</td>\n",
       "      <td>audio_features</td>\n",
       "      <td>spotify:track:00c9KIdlwZUXQvhF5gz4zM</td>\n",
       "      <td>https://api.spotify.com/v1/tracks/00c9KIdlwZUX...</td>\n",
       "      <td>https://api.spotify.com/v1/audio-analysis/00c9...</td>\n",
       "      <td>45693.0</td>\n",
       "      <td>4.0</td>\n",
       "    </tr>\n",
       "  </tbody>\n",
       "</table>\n",
       "<p>10 rows × 46 columns</p>\n",
       "</div>"
      ],
      "text/plain": [
       "                       id                                            artists  \\\n",
       "0  000xQL6tZNLJzIrtIgxqSl  https://api.spotify.com/v1/artists/5ZsFI1h6hId...   \n",
       "1  001UkMQHw4zXfFNdKpwXAF  https://api.spotify.com/v1/artists/0XKOBt59crn...   \n",
       "2  003FTlCpBTM4eSqYSWPv4H  https://api.spotify.com/v1/artists/3vAaWhdBR38...   \n",
       "3  003vvx7Niy0yvhvHt4a68B  https://api.spotify.com/v1/artists/0C0XlULifJt...   \n",
       "4  005lwxGU1tms6HGELIcUv9  https://api.spotify.com/v1/artists/6jJ0s89eD6G...   \n",
       "5  007EFIByaEW4dgEcIbfBg9  https://api.spotify.com/v1/artists/1dKdetem2xE...   \n",
       "6  009ImBOrIUlWgla8U05RAC  https://api.spotify.com/v1/artists/6jJ0s89eD6G...   \n",
       "7  009thiR2SWpG6jXqXYX2AT  https://api.spotify.com/v1/artists/4qxGMBS25xD...   \n",
       "8  00bOuKgzbRkOHmgCAL7ChZ  https://api.spotify.com/v1/artists/0QJKELJZZuL...   \n",
       "9  00c9KIdlwZUXQvhF5gz4zM  https://api.spotify.com/v1/artists/2wOqMjp9TyA...   \n",
       "\n",
       "                                   available_markets  disc_number  \\\n",
       "0  AD, AE, AL, AR, AT, AU, BA, BE, BG, BH, BO, BR...            1   \n",
       "1  AD, AE, AL, AR, AT, AU, BA, BE, BG, BH, BO, BR...            1   \n",
       "2  AD, AE, AL, AR, AT, AU, BA, BE, BG, BH, BO, BR...            1   \n",
       "3  AD, AE, AL, AR, AT, AU, BA, BE, BG, BH, BO, BR...            1   \n",
       "4                                         CA, JP, US            1   \n",
       "5  AD, AE, AL, AR, AT, AU, BA, BE, BG, BH, BO, BR...            1   \n",
       "6  AD, AE, AL, AR, AT, AU, BA, BE, BG, BH, BO, BR...            1   \n",
       "7  AD, AE, AL, AR, AT, AU, BA, BE, BG, BH, BO, BR...            1   \n",
       "8  AD, AE, AL, AR, AT, AU, BA, BE, BG, BH, BO, BR...            1   \n",
       "9  AE, AL, AR, AT, AU, BA, BE, BG, BH, BO, BR, BY...            1   \n",
       "\n",
       "  duration_ms.x explicit                                               href  \\\n",
       "0        188490    FALSE  https://api.spotify.com/v1/tracks/000xQL6tZNLJ...   \n",
       "1        191053    FALSE  https://api.spotify.com/v1/tracks/001UkMQHw4zX...   \n",
       "2        233266    FALSE  https://api.spotify.com/v1/tracks/003FTlCpBTM4...   \n",
       "3        222973    FALSE  https://api.spotify.com/v1/tracks/003vvx7Niy0y...   \n",
       "4        179640    FALSE  https://api.spotify.com/v1/tracks/005lwxGU1tms...   \n",
       "5        170626    FALSE  https://api.spotify.com/v1/tracks/007EFIByaEW4...   \n",
       "6        228878    FALSE  https://api.spotify.com/v1/tracks/009ImBOrIUlW...   \n",
       "7        152784    FALSE  https://api.spotify.com/v1/tracks/009thiR2SWpG...   \n",
       "8        271680    FALSE  https://api.spotify.com/v1/tracks/00bOuKgzbRkO...   \n",
       "9         45693    FALSE  https://api.spotify.com/v1/tracks/00c9KIdlwZUX...   \n",
       "\n",
       "  is_local                                               name popularity  ...  \\\n",
       "0    FALSE               Still Got Time (feat. PARTYNEXTDOOR)         63  ...   \n",
       "1    FALSE                    Brand New Man - with Luke Combs         68  ...   \n",
       "2    FALSE                                       Swing, Swing         67  ...   \n",
       "3    FALSE                                     Mr. Brightside         80  ...   \n",
       "4    FALSE                                    I Kissed A Girl         68  ...   \n",
       "5    FALSE                                   Hasta Que un dÃ­         58  ...   \n",
       "6    FALSE                                    Unconditionally         70  ...   \n",
       "7    FALSE                                    Cuantas Amantes         53  ...   \n",
       "8    FALSE                                             Zoning         50  ...   \n",
       "9    FALSE  15 Variations and Fugue in E-Flat Major, Op. 3...          9  ...   \n",
       "\n",
       "  instrumentalness liveness valence    tempo          type.y  \\\n",
       "0         0.000000   0.0852  0.5240  120.963  audio_features   \n",
       "1         0.000079   0.2900  0.5620  127.061  audio_features   \n",
       "2         0.128000   0.0385  0.3180  127.947  audio_features   \n",
       "3         0.000000   0.0995  0.2360  148.033  audio_features   \n",
       "4         0.000000   0.1320  0.6960  129.996  audio_features   \n",
       "5         0.000000   0.1520  0.3680  134.958  audio_features   \n",
       "6         0.000000   0.2080  0.3530  128.902  audio_features   \n",
       "7         0.872000   0.1140  0.4220   93.952  audio_features   \n",
       "8         0.408000   0.1060  0.0369  104.978  audio_features   \n",
       "9         0.941000   0.1590  0.2820   95.615  audio_features   \n",
       "\n",
       "                                  uri.y  \\\n",
       "0  spotify:track:000xQL6tZNLJzIrtIgxqSl   \n",
       "1  spotify:track:001UkMQHw4zXfFNdKpwXAF   \n",
       "2  spotify:track:003FTlCpBTM4eSqYSWPv4H   \n",
       "3  spotify:track:003vvx7Niy0yvhvHt4a68B   \n",
       "4  spotify:track:005lwxGU1tms6HGELIcUv9   \n",
       "5  spotify:track:007EFIByaEW4dgEcIbfBg9   \n",
       "6  spotify:track:009ImBOrIUlWgla8U05RAC   \n",
       "7  spotify:track:009thiR2SWpG6jXqXYX2AT   \n",
       "8  spotify:track:00bOuKgzbRkOHmgCAL7ChZ   \n",
       "9  spotify:track:00c9KIdlwZUXQvhF5gz4zM   \n",
       "\n",
       "                                          track_href  \\\n",
       "0  https://api.spotify.com/v1/tracks/000xQL6tZNLJ...   \n",
       "1  https://api.spotify.com/v1/tracks/001UkMQHw4zX...   \n",
       "2  https://api.spotify.com/v1/tracks/003FTlCpBTM4...   \n",
       "3  https://api.spotify.com/v1/tracks/003vvx7Niy0y...   \n",
       "4  https://api.spotify.com/v1/tracks/005lwxGU1tms...   \n",
       "5  https://api.spotify.com/v1/tracks/007EFIByaEW4...   \n",
       "6  https://api.spotify.com/v1/tracks/009ImBOrIUlW...   \n",
       "7  https://api.spotify.com/v1/tracks/009thiR2SWpG...   \n",
       "8  https://api.spotify.com/v1/tracks/00bOuKgzbRkO...   \n",
       "9  https://api.spotify.com/v1/tracks/00c9KIdlwZUX...   \n",
       "\n",
       "                                        analysis_url duration_ms.y  \\\n",
       "0  https://api.spotify.com/v1/audio-analysis/000x...      188491.0   \n",
       "1  https://api.spotify.com/v1/audio-analysis/001U...      191053.0   \n",
       "2  https://api.spotify.com/v1/audio-analysis/003F...      233267.0   \n",
       "3  https://api.spotify.com/v1/audio-analysis/003v...      222973.0   \n",
       "4  https://api.spotify.com/v1/audio-analysis/005l...      179640.0   \n",
       "5  https://api.spotify.com/v1/audio-analysis/007E...      170627.0   \n",
       "6  https://api.spotify.com/v1/audio-analysis/009I...      228879.0   \n",
       "7  https://api.spotify.com/v1/audio-analysis/009t...      152784.0   \n",
       "8  https://api.spotify.com/v1/audio-analysis/00bO...      271680.0   \n",
       "9  https://api.spotify.com/v1/audio-analysis/00c9...       45693.0   \n",
       "\n",
       "  time_signature  \n",
       "0            4.0  \n",
       "1            4.0  \n",
       "2            4.0  \n",
       "3            4.0  \n",
       "4            4.0  \n",
       "5            4.0  \n",
       "6            4.0  \n",
       "7            4.0  \n",
       "8            4.0  \n",
       "9            4.0  \n",
       "\n",
       "[10 rows x 46 columns]"
      ]
     },
     "execution_count": 4,
     "metadata": {},
     "output_type": "execute_result"
    }
   ],
   "source": [
    "# Checking data_raw initial observations\n",
    "data_raw.head(10)"
   ]
  },
  {
   "cell_type": "code",
   "execution_count": 5,
   "metadata": {},
   "outputs": [
    {
     "data": {
      "text/plain": [
       "(19335, 46)"
      ]
     },
     "execution_count": 5,
     "metadata": {},
     "output_type": "execute_result"
    }
   ],
   "source": [
    "# Checking data shape\n",
    "data_raw.shape"
   ]
  },
  {
   "cell_type": "markdown",
   "metadata": {},
   "source": [
    "Our data is ok, but it needs a lot of transformation in order to fit a model. We'll deal with this in the next steps."
   ]
  },
  {
   "cell_type": "markdown",
   "metadata": {},
   "source": [
    "### 1.2 Processing the data"
   ]
  },
  {
   "cell_type": "markdown",
   "metadata": {},
   "source": [
    "Unfortunately, we can't display every feature present in our dataframe using \"head\" method. We might check its columns and their datatypes."
   ]
  },
  {
   "cell_type": "code",
   "execution_count": 6,
   "metadata": {},
   "outputs": [
    {
     "name": "stdout",
     "output_type": "stream",
     "text": [
      "Index(['id', 'artists', 'available_markets', 'disc_number', 'duration_ms.x',\n",
      "       'explicit', 'href', 'is_local', 'name', 'popularity', 'preview_url',\n",
      "       'track_number', 'type.x', 'uri.x', 'album.album_type', 'album.artists',\n",
      "       'album.available_markets', 'album.href', 'album.id', 'album.images',\n",
      "       'album.name', 'album.release_date', 'album.release_date_precision',\n",
      "       'album.total_tracks', 'album.type', 'album.uri',\n",
      "       'album.external_urls.spotify', 'external_ids.isrc',\n",
      "       'external_urls.spotify', 'danceability', 'energy', 'key', 'loudness',\n",
      "       'mode', 'speechiness', 'acousticness', 'instrumentalness', 'liveness',\n",
      "       'valence', 'tempo', 'type.y', 'uri.y', 'track_href', 'analysis_url',\n",
      "       'duration_ms.y', 'time_signature'],\n",
      "      dtype='object')\n"
     ]
    }
   ],
   "source": [
    "# Checking data columns\n",
    "print(data_raw.columns)"
   ]
  },
  {
   "cell_type": "code",
   "execution_count": 7,
   "metadata": {},
   "outputs": [
    {
     "name": "stdout",
     "output_type": "stream",
     "text": [
      "id                               object\n",
      "artists                          object\n",
      "available_markets                object\n",
      "disc_number                       int64\n",
      "duration_ms.x                    object\n",
      "explicit                         object\n",
      "href                             object\n",
      "is_local                         object\n",
      "name                             object\n",
      "popularity                       object\n",
      "preview_url                      object\n",
      "track_number                     object\n",
      "type.x                           object\n",
      "uri.x                            object\n",
      "album.album_type                 object\n",
      "album.artists                    object\n",
      "album.available_markets          object\n",
      "album.href                       object\n",
      "album.id                         object\n",
      "album.images                     object\n",
      "album.name                       object\n",
      "album.release_date               object\n",
      "album.release_date_precision     object\n",
      "album.total_tracks               object\n",
      "album.type                       object\n",
      "album.uri                        object\n",
      "album.external_urls.spotify      object\n",
      "external_ids.isrc                object\n",
      "external_urls.spotify            object\n",
      "danceability                    float64\n",
      "energy                          float64\n",
      "key                             float64\n",
      "loudness                        float64\n",
      "mode                            float64\n",
      "speechiness                     float64\n",
      "acousticness                    float64\n",
      "instrumentalness                float64\n",
      "liveness                        float64\n",
      "valence                         float64\n",
      "tempo                           float64\n",
      "type.y                           object\n",
      "uri.y                            object\n",
      "track_href                       object\n",
      "analysis_url                     object\n",
      "duration_ms.y                   float64\n",
      "time_signature                  float64\n",
      "dtype: object\n"
     ]
    }
   ],
   "source": [
    "# Checking data dtypes\n",
    "print(data_raw.dtypes)"
   ]
  },
  {
   "cell_type": "markdown",
   "metadata": {},
   "source": [
    "There are some problems with lines 7398 and 12599. They present string values in numeric columns. Let's drop those lines before dropping our selected columns."
   ]
  },
  {
   "cell_type": "code",
   "execution_count": 8,
   "metadata": {},
   "outputs": [],
   "source": [
    "# Dropping observation with problem\n",
    "data_raw.iloc[12599] = None\n",
    "data_raw.iloc[7398] = None"
   ]
  },
  {
   "cell_type": "markdown",
   "metadata": {},
   "source": [
    "Let's look for missing values in our data. A regression model cannot handle missing values automatically."
   ]
  },
  {
   "cell_type": "code",
   "execution_count": 9,
   "metadata": {},
   "outputs": [
    {
     "data": {
      "text/plain": [
       "id                                 4\n",
       "artists                            2\n",
       "available_markets                  2\n",
       "disc_number                        2\n",
       "duration_ms.x                      2\n",
       "explicit                           2\n",
       "href                               2\n",
       "is_local                           2\n",
       "name                               4\n",
       "popularity                         3\n",
       "preview_url                     7526\n",
       "track_number                       3\n",
       "type.x                             3\n",
       "uri.x                              3\n",
       "album.album_type                   3\n",
       "album.artists                      3\n",
       "album.available_markets            3\n",
       "album.href                         3\n",
       "album.id                           3\n",
       "album.images                       3\n",
       "album.name                         3\n",
       "album.release_date                 4\n",
       "album.release_date_precision       4\n",
       "album.total_tracks                 4\n",
       "album.type                         4\n",
       "album.uri                          4\n",
       "album.external_urls.spotify        7\n",
       "external_ids.isrc                  7\n",
       "external_urls.spotify              7\n",
       "danceability                       7\n",
       "energy                             7\n",
       "key                                7\n",
       "loudness                           7\n",
       "mode                               7\n",
       "speechiness                        7\n",
       "acousticness                       7\n",
       "instrumentalness                   7\n",
       "liveness                           7\n",
       "valence                            7\n",
       "tempo                              7\n",
       "type.y                             7\n",
       "uri.y                              7\n",
       "track_href                         7\n",
       "analysis_url                       7\n",
       "duration_ms.y                      7\n",
       "time_signature                     7\n",
       "dtype: int64"
      ]
     },
     "execution_count": 9,
     "metadata": {},
     "output_type": "execute_result"
    }
   ],
   "source": [
    "# Checking for missing values\n",
    "data_raw.isnull().sum()"
   ]
  },
  {
   "cell_type": "markdown",
   "metadata": {},
   "source": [
    "It seems that 'preview_url' is full of missing data. Let's drop this column since it is not going to add any variance to our model."
   ]
  },
  {
   "cell_type": "code",
   "execution_count": 10,
   "metadata": {},
   "outputs": [],
   "source": [
    "# Dropping preview_url\n",
    "data_raw.drop(['preview_url'], axis = 1, inplace = True)"
   ]
  },
  {
   "cell_type": "markdown",
   "metadata": {},
   "source": [
    "Now we can drop any still remaining missing values in our data. \"Dropna\" should handle it well."
   ]
  },
  {
   "cell_type": "code",
   "execution_count": 11,
   "metadata": {},
   "outputs": [],
   "source": [
    "# Dropping missing values\n",
    "data_raw.dropna(inplace = True)"
   ]
  },
  {
   "cell_type": "code",
   "execution_count": 12,
   "metadata": {},
   "outputs": [
    {
     "data": {
      "text/plain": [
       "(19326, 45)"
      ]
     },
     "execution_count": 12,
     "metadata": {},
     "output_type": "execute_result"
    }
   ],
   "source": [
    "# Checking new data shape\n",
    "data_raw.shape"
   ]
  },
  {
   "cell_type": "markdown",
   "metadata": {},
   "source": [
    "Now we can deliberately drop some unnecessary columns in our data. These columns are merely descriptive information about our songs and they won't aggregate any variance to our model. These descriptive features may even disrupt our model.\n",
    "\n",
    "The remaining features may be good popularity predictors. We will check those later."
   ]
  },
  {
   "cell_type": "code",
   "execution_count": 13,
   "metadata": {},
   "outputs": [],
   "source": [
    "# Dropping unnecessary columns\n",
    "data_raw.drop(['id','track_number', 'album.release_date', 'artists', 'album.total_tracks', 'available_markets', 'disc_number', 'href', 'name',\n",
    "               'type.x', 'uri.x', 'album.artists','album.available_markets',\n",
    "              'album.href', 'album.id', 'album.images','album.name', 'album.release_date_precision',\n",
    "              'album.type', 'album.uri', 'album.external_urls.spotify','external_ids.isrc',\n",
    "              'external_urls.spotify', 'type.y','uri.y', 'track_href', 'analysis_url', 'duration_ms.x'],\n",
    "              axis = 1,\n",
    "              inplace = True)"
   ]
  },
  {
   "cell_type": "markdown",
   "metadata": {},
   "source": [
    "Some columns, including our target value, are not set as numeric. Before taking any data exploration step we need to transform these variables."
   ]
  },
  {
   "cell_type": "code",
   "execution_count": 14,
   "metadata": {},
   "outputs": [],
   "source": [
    "# Converting popularity, track_number and album.total_tracks to numeric\n",
    "for column in ['popularity', 'duration_ms.y']:\n",
    "    data_raw[column] = pd.to_numeric(data_raw[column])"
   ]
  },
  {
   "cell_type": "markdown",
   "metadata": {},
   "source": [
    "It seems our data is ready to exploration. Let's take the next step."
   ]
  },
  {
   "cell_type": "markdown",
   "metadata": {},
   "source": [
    "## 2. Exploratory Data Analysis"
   ]
  },
  {
   "cell_type": "markdown",
   "metadata": {},
   "source": [
    "The first step in our EDA is to check our target value distribution. After that we are going to analyze our features statistical atributes."
   ]
  },
  {
   "cell_type": "markdown",
   "metadata": {},
   "source": [
    "### 2.1. EDA I: Target value"
   ]
  },
  {
   "cell_type": "markdown",
   "metadata": {},
   "source": [
    "Let's plot a histogram to see how popularity is distributed around our large dataset."
   ]
  },
  {
   "cell_type": "code",
   "execution_count": 15,
   "metadata": {},
   "outputs": [
    {
     "data": {
      "image/png": "[encoded data removed]",
      "text/plain": [
       "<Figure size 720x720 with 1 Axes>"
      ]
     },
     "metadata": {
      "needs_background": "light"
     },
     "output_type": "display_data"
    }
   ],
   "source": [
    "# Checking popularity distribution\n",
    "%matplotlib inline\n",
    "\n",
    "plt.figure(figsize=(10,10))\n",
    "plt.hist(data_raw['popularity'], bins = 300)\n",
    "plt.title('Histogram of Popularity')\n",
    "plt.show()"
   ]
  },
  {
   "cell_type": "markdown",
   "metadata": {},
   "source": [
    "It seems that our popularity variable is somehow normally distributed around a value between 60 and 70. There are some outliers with very low popularity and some other outliers that are super popular songs. There is also a huge amount of zeros, i.e., songs with no popularity at all. We can use a boxplot to visualize better the distribution of our data."
   ]
  },
  {
   "cell_type": "code",
   "execution_count": 16,
   "metadata": {},
   "outputs": [
    {
     "data": {
      "image/png": "[encoded data removed]",
      "text/plain": [
       "<Figure size 720x720 with 1 Axes>"
      ]
     },
     "metadata": {
      "needs_background": "light"
     },
     "output_type": "display_data"
    }
   ],
   "source": [
    "# Checking popularity boxplot\n",
    "%matplotlib inline\n",
    "plt.figure(figsize=(10,10))\n",
    "plt.boxplot(data_raw['popularity'])\n",
    "plt.title('Boxplot of Popularity')\n",
    "plt.show()"
   ]
  },
  {
   "cell_type": "markdown",
   "metadata": {},
   "source": [
    "Finally, let's describe our target variable."
   ]
  },
  {
   "cell_type": "code",
   "execution_count": 95,
   "metadata": {},
   "outputs": [
    {
     "name": "stdout",
     "output_type": "stream",
     "text": [
      "count    19326.000000\n",
      "mean        58.143382\n",
      "std         19.905058\n",
      "min          0.000000\n",
      "25%         55.000000\n",
      "50%         64.000000\n",
      "75%         70.000000\n",
      "max        100.000000\n",
      "Name: popularity, dtype: float64\n"
     ]
    }
   ],
   "source": [
    "# Checking target variable general stats\n",
    "print(data_raw['popularity'].describe())"
   ]
  },
  {
   "cell_type": "markdown",
   "metadata": {},
   "source": [
    "It seems our data is centered around 55 and 70. Besides the huge amount of songs with no popularity at all, we can see that our variable has a considerable standard deviation. This value may serve as a reference to check our model performance later, comparing it to our score metric (RMSE).\n",
    "\n",
    "Since our company is not really performing well in the last months, the fact that the majority of the songs are not considered \"hits\" shouldn't be a problem for this task. If we are capable of finding the features that are responsible for an overall good performance of a song the problem will be solved."
   ]
  },
  {
   "cell_type": "markdown",
   "metadata": {},
   "source": [
    "### 2.2 EDA II: Selected features"
   ]
  },
  {
   "cell_type": "markdown",
   "metadata": {},
   "source": [
    "Now we turn our attention to the song features. We will look for high correlated features and drop them. High correlated features may be transmiting the same information and we don't want to feed the model with unnecessary variables."
   ]
  },
  {
   "cell_type": "markdown",
   "metadata": {},
   "source": [
    "Seaborn's function pairplot can be useful to take a look in general data correlation."
   ]
  },
  {
   "cell_type": "code",
   "execution_count": 17,
   "metadata": {},
   "outputs": [
    {
     "data": {
      "image/png": "[encoded data removed]",
      "text/plain": [
       "<Figure size 720x720 with 2 Axes>"
      ]
     },
     "metadata": {},
     "output_type": "display_data"
    }
   ],
   "source": [
    "# Getting correlation matrix\n",
    "data_corr = data_raw.corr()\n",
    "\n",
    "# Plotting heatmap\n",
    "mask = np.zeros_like(data_corr)\n",
    "mask[np.triu_indices_from(mask)] = True\n",
    "with sns.axes_style(\"white\"):\n",
    "    f, ax = plt.subplots(figsize = (10, 10))\n",
    "    ax = sns.heatmap(data_corr, mask = mask, vmax = .3, square = True)"
   ]
  },
  {
   "cell_type": "code",
   "execution_count": 97,
   "metadata": {},
   "outputs": [
    {
     "data": {
      "text/html": [
       "<div>\n",
       "<style scoped>\n",
       "    .dataframe tbody tr th:only-of-type {\n",
       "        vertical-align: middle;\n",
       "    }\n",
       "\n",
       "    .dataframe tbody tr th {\n",
       "        vertical-align: top;\n",
       "    }\n",
       "\n",
       "    .dataframe thead th {\n",
       "        text-align: right;\n",
       "    }\n",
       "</style>\n",
       "<table border=\"1\" class=\"dataframe\">\n",
       "  <thead>\n",
       "    <tr style=\"text-align: right;\">\n",
       "      <th></th>\n",
       "      <th>popularity</th>\n",
       "      <th>danceability</th>\n",
       "      <th>energy</th>\n",
       "      <th>key</th>\n",
       "      <th>loudness</th>\n",
       "      <th>mode</th>\n",
       "      <th>speechiness</th>\n",
       "      <th>acousticness</th>\n",
       "      <th>instrumentalness</th>\n",
       "      <th>liveness</th>\n",
       "      <th>valence</th>\n",
       "      <th>tempo</th>\n",
       "      <th>duration_ms.y</th>\n",
       "      <th>time_signature</th>\n",
       "    </tr>\n",
       "  </thead>\n",
       "  <tbody>\n",
       "    <tr>\n",
       "      <th>popularity</th>\n",
       "      <td>1.0</td>\n",
       "      <td>NaN</td>\n",
       "      <td>NaN</td>\n",
       "      <td>NaN</td>\n",
       "      <td>NaN</td>\n",
       "      <td>NaN</td>\n",
       "      <td>NaN</td>\n",
       "      <td>NaN</td>\n",
       "      <td>NaN</td>\n",
       "      <td>NaN</td>\n",
       "      <td>NaN</td>\n",
       "      <td>NaN</td>\n",
       "      <td>NaN</td>\n",
       "      <td>NaN</td>\n",
       "    </tr>\n",
       "    <tr>\n",
       "      <th>danceability</th>\n",
       "      <td>NaN</td>\n",
       "      <td>1.0</td>\n",
       "      <td>NaN</td>\n",
       "      <td>NaN</td>\n",
       "      <td>NaN</td>\n",
       "      <td>NaN</td>\n",
       "      <td>NaN</td>\n",
       "      <td>NaN</td>\n",
       "      <td>NaN</td>\n",
       "      <td>NaN</td>\n",
       "      <td>NaN</td>\n",
       "      <td>NaN</td>\n",
       "      <td>NaN</td>\n",
       "      <td>NaN</td>\n",
       "    </tr>\n",
       "    <tr>\n",
       "      <th>energy</th>\n",
       "      <td>NaN</td>\n",
       "      <td>NaN</td>\n",
       "      <td>1.000000</td>\n",
       "      <td>NaN</td>\n",
       "      <td>0.770202</td>\n",
       "      <td>NaN</td>\n",
       "      <td>NaN</td>\n",
       "      <td>NaN</td>\n",
       "      <td>NaN</td>\n",
       "      <td>NaN</td>\n",
       "      <td>NaN</td>\n",
       "      <td>NaN</td>\n",
       "      <td>NaN</td>\n",
       "      <td>NaN</td>\n",
       "    </tr>\n",
       "    <tr>\n",
       "      <th>key</th>\n",
       "      <td>NaN</td>\n",
       "      <td>NaN</td>\n",
       "      <td>NaN</td>\n",
       "      <td>1.0</td>\n",
       "      <td>NaN</td>\n",
       "      <td>NaN</td>\n",
       "      <td>NaN</td>\n",
       "      <td>NaN</td>\n",
       "      <td>NaN</td>\n",
       "      <td>NaN</td>\n",
       "      <td>NaN</td>\n",
       "      <td>NaN</td>\n",
       "      <td>NaN</td>\n",
       "      <td>NaN</td>\n",
       "    </tr>\n",
       "    <tr>\n",
       "      <th>loudness</th>\n",
       "      <td>NaN</td>\n",
       "      <td>NaN</td>\n",
       "      <td>0.770202</td>\n",
       "      <td>NaN</td>\n",
       "      <td>1.000000</td>\n",
       "      <td>NaN</td>\n",
       "      <td>NaN</td>\n",
       "      <td>NaN</td>\n",
       "      <td>NaN</td>\n",
       "      <td>NaN</td>\n",
       "      <td>NaN</td>\n",
       "      <td>NaN</td>\n",
       "      <td>NaN</td>\n",
       "      <td>NaN</td>\n",
       "    </tr>\n",
       "    <tr>\n",
       "      <th>mode</th>\n",
       "      <td>NaN</td>\n",
       "      <td>NaN</td>\n",
       "      <td>NaN</td>\n",
       "      <td>NaN</td>\n",
       "      <td>NaN</td>\n",
       "      <td>1.0</td>\n",
       "      <td>NaN</td>\n",
       "      <td>NaN</td>\n",
       "      <td>NaN</td>\n",
       "      <td>NaN</td>\n",
       "      <td>NaN</td>\n",
       "      <td>NaN</td>\n",
       "      <td>NaN</td>\n",
       "      <td>NaN</td>\n",
       "    </tr>\n",
       "    <tr>\n",
       "      <th>speechiness</th>\n",
       "      <td>NaN</td>\n",
       "      <td>NaN</td>\n",
       "      <td>NaN</td>\n",
       "      <td>NaN</td>\n",
       "      <td>NaN</td>\n",
       "      <td>NaN</td>\n",
       "      <td>1.0</td>\n",
       "      <td>NaN</td>\n",
       "      <td>NaN</td>\n",
       "      <td>NaN</td>\n",
       "      <td>NaN</td>\n",
       "      <td>NaN</td>\n",
       "      <td>NaN</td>\n",
       "      <td>NaN</td>\n",
       "    </tr>\n",
       "    <tr>\n",
       "      <th>acousticness</th>\n",
       "      <td>NaN</td>\n",
       "      <td>NaN</td>\n",
       "      <td>NaN</td>\n",
       "      <td>NaN</td>\n",
       "      <td>NaN</td>\n",
       "      <td>NaN</td>\n",
       "      <td>NaN</td>\n",
       "      <td>1.0</td>\n",
       "      <td>NaN</td>\n",
       "      <td>NaN</td>\n",
       "      <td>NaN</td>\n",
       "      <td>NaN</td>\n",
       "      <td>NaN</td>\n",
       "      <td>NaN</td>\n",
       "    </tr>\n",
       "    <tr>\n",
       "      <th>instrumentalness</th>\n",
       "      <td>NaN</td>\n",
       "      <td>NaN</td>\n",
       "      <td>NaN</td>\n",
       "      <td>NaN</td>\n",
       "      <td>NaN</td>\n",
       "      <td>NaN</td>\n",
       "      <td>NaN</td>\n",
       "      <td>NaN</td>\n",
       "      <td>1.0</td>\n",
       "      <td>NaN</td>\n",
       "      <td>NaN</td>\n",
       "      <td>NaN</td>\n",
       "      <td>NaN</td>\n",
       "      <td>NaN</td>\n",
       "    </tr>\n",
       "    <tr>\n",
       "      <th>liveness</th>\n",
       "      <td>NaN</td>\n",
       "      <td>NaN</td>\n",
       "      <td>NaN</td>\n",
       "      <td>NaN</td>\n",
       "      <td>NaN</td>\n",
       "      <td>NaN</td>\n",
       "      <td>NaN</td>\n",
       "      <td>NaN</td>\n",
       "      <td>NaN</td>\n",
       "      <td>1.0</td>\n",
       "      <td>NaN</td>\n",
       "      <td>NaN</td>\n",
       "      <td>NaN</td>\n",
       "      <td>NaN</td>\n",
       "    </tr>\n",
       "    <tr>\n",
       "      <th>valence</th>\n",
       "      <td>NaN</td>\n",
       "      <td>NaN</td>\n",
       "      <td>NaN</td>\n",
       "      <td>NaN</td>\n",
       "      <td>NaN</td>\n",
       "      <td>NaN</td>\n",
       "      <td>NaN</td>\n",
       "      <td>NaN</td>\n",
       "      <td>NaN</td>\n",
       "      <td>NaN</td>\n",
       "      <td>1.0</td>\n",
       "      <td>NaN</td>\n",
       "      <td>NaN</td>\n",
       "      <td>NaN</td>\n",
       "    </tr>\n",
       "    <tr>\n",
       "      <th>tempo</th>\n",
       "      <td>NaN</td>\n",
       "      <td>NaN</td>\n",
       "      <td>NaN</td>\n",
       "      <td>NaN</td>\n",
       "      <td>NaN</td>\n",
       "      <td>NaN</td>\n",
       "      <td>NaN</td>\n",
       "      <td>NaN</td>\n",
       "      <td>NaN</td>\n",
       "      <td>NaN</td>\n",
       "      <td>NaN</td>\n",
       "      <td>1.0</td>\n",
       "      <td>NaN</td>\n",
       "      <td>NaN</td>\n",
       "    </tr>\n",
       "    <tr>\n",
       "      <th>duration_ms.y</th>\n",
       "      <td>NaN</td>\n",
       "      <td>NaN</td>\n",
       "      <td>NaN</td>\n",
       "      <td>NaN</td>\n",
       "      <td>NaN</td>\n",
       "      <td>NaN</td>\n",
       "      <td>NaN</td>\n",
       "      <td>NaN</td>\n",
       "      <td>NaN</td>\n",
       "      <td>NaN</td>\n",
       "      <td>NaN</td>\n",
       "      <td>NaN</td>\n",
       "      <td>1.0</td>\n",
       "      <td>NaN</td>\n",
       "    </tr>\n",
       "    <tr>\n",
       "      <th>time_signature</th>\n",
       "      <td>NaN</td>\n",
       "      <td>NaN</td>\n",
       "      <td>NaN</td>\n",
       "      <td>NaN</td>\n",
       "      <td>NaN</td>\n",
       "      <td>NaN</td>\n",
       "      <td>NaN</td>\n",
       "      <td>NaN</td>\n",
       "      <td>NaN</td>\n",
       "      <td>NaN</td>\n",
       "      <td>NaN</td>\n",
       "      <td>NaN</td>\n",
       "      <td>NaN</td>\n",
       "      <td>1.0</td>\n",
       "    </tr>\n",
       "  </tbody>\n",
       "</table>\n",
       "</div>"
      ],
      "text/plain": [
       "                  popularity  danceability    energy  key  loudness  mode  \\\n",
       "popularity               1.0           NaN       NaN  NaN       NaN   NaN   \n",
       "danceability             NaN           1.0       NaN  NaN       NaN   NaN   \n",
       "energy                   NaN           NaN  1.000000  NaN  0.770202   NaN   \n",
       "key                      NaN           NaN       NaN  1.0       NaN   NaN   \n",
       "loudness                 NaN           NaN  0.770202  NaN  1.000000   NaN   \n",
       "mode                     NaN           NaN       NaN  NaN       NaN   1.0   \n",
       "speechiness              NaN           NaN       NaN  NaN       NaN   NaN   \n",
       "acousticness             NaN           NaN       NaN  NaN       NaN   NaN   \n",
       "instrumentalness         NaN           NaN       NaN  NaN       NaN   NaN   \n",
       "liveness                 NaN           NaN       NaN  NaN       NaN   NaN   \n",
       "valence                  NaN           NaN       NaN  NaN       NaN   NaN   \n",
       "tempo                    NaN           NaN       NaN  NaN       NaN   NaN   \n",
       "duration_ms.y            NaN           NaN       NaN  NaN       NaN   NaN   \n",
       "time_signature           NaN           NaN       NaN  NaN       NaN   NaN   \n",
       "\n",
       "                  speechiness  acousticness  instrumentalness  liveness  \\\n",
       "popularity                NaN           NaN               NaN       NaN   \n",
       "danceability              NaN           NaN               NaN       NaN   \n",
       "energy                    NaN           NaN               NaN       NaN   \n",
       "key                       NaN           NaN               NaN       NaN   \n",
       "loudness                  NaN           NaN               NaN       NaN   \n",
       "mode                      NaN           NaN               NaN       NaN   \n",
       "speechiness               1.0           NaN               NaN       NaN   \n",
       "acousticness              NaN           1.0               NaN       NaN   \n",
       "instrumentalness          NaN           NaN               1.0       NaN   \n",
       "liveness                  NaN           NaN               NaN       1.0   \n",
       "valence                   NaN           NaN               NaN       NaN   \n",
       "tempo                     NaN           NaN               NaN       NaN   \n",
       "duration_ms.y             NaN           NaN               NaN       NaN   \n",
       "time_signature            NaN           NaN               NaN       NaN   \n",
       "\n",
       "                  valence  tempo  duration_ms.y  time_signature  \n",
       "popularity            NaN    NaN            NaN             NaN  \n",
       "danceability          NaN    NaN            NaN             NaN  \n",
       "energy                NaN    NaN            NaN             NaN  \n",
       "key                   NaN    NaN            NaN             NaN  \n",
       "loudness              NaN    NaN            NaN             NaN  \n",
       "mode                  NaN    NaN            NaN             NaN  \n",
       "speechiness           NaN    NaN            NaN             NaN  \n",
       "acousticness          NaN    NaN            NaN             NaN  \n",
       "instrumentalness      NaN    NaN            NaN             NaN  \n",
       "liveness              NaN    NaN            NaN             NaN  \n",
       "valence               1.0    NaN            NaN             NaN  \n",
       "tempo                 NaN    1.0            NaN             NaN  \n",
       "duration_ms.y         NaN    NaN            1.0             NaN  \n",
       "time_signature        NaN    NaN            NaN             1.0  "
      ]
     },
     "execution_count": 97,
     "metadata": {},
     "output_type": "execute_result"
    }
   ],
   "source": [
    "# Displaying correlation matrix\n",
    "data_corr[data_corr > .75]"
   ]
  },
  {
   "cell_type": "markdown",
   "metadata": {},
   "source": [
    "Although there are some high correlated features, they may not be representing the same information. We'll choose to maintain our original features.\n",
    "\n",
    "We can use describe again to gain a general statistical knowledge about our features."
   ]
  },
  {
   "cell_type": "code",
   "execution_count": 98,
   "metadata": {},
   "outputs": [
    {
     "data": {
      "text/html": [
       "<div>\n",
       "<style scoped>\n",
       "    .dataframe tbody tr th:only-of-type {\n",
       "        vertical-align: middle;\n",
       "    }\n",
       "\n",
       "    .dataframe tbody tr th {\n",
       "        vertical-align: top;\n",
       "    }\n",
       "\n",
       "    .dataframe thead th {\n",
       "        text-align: right;\n",
       "    }\n",
       "</style>\n",
       "<table border=\"1\" class=\"dataframe\">\n",
       "  <thead>\n",
       "    <tr style=\"text-align: right;\">\n",
       "      <th></th>\n",
       "      <th>popularity</th>\n",
       "      <th>danceability</th>\n",
       "      <th>energy</th>\n",
       "      <th>key</th>\n",
       "      <th>loudness</th>\n",
       "      <th>mode</th>\n",
       "      <th>speechiness</th>\n",
       "      <th>acousticness</th>\n",
       "      <th>instrumentalness</th>\n",
       "      <th>liveness</th>\n",
       "      <th>valence</th>\n",
       "      <th>tempo</th>\n",
       "      <th>duration_ms.y</th>\n",
       "      <th>time_signature</th>\n",
       "    </tr>\n",
       "  </thead>\n",
       "  <tbody>\n",
       "    <tr>\n",
       "      <th>count</th>\n",
       "      <td>19326.000000</td>\n",
       "      <td>19326.000000</td>\n",
       "      <td>19326.000000</td>\n",
       "      <td>19326.000000</td>\n",
       "      <td>19326.000000</td>\n",
       "      <td>19326.000000</td>\n",
       "      <td>19326.000000</td>\n",
       "      <td>19326.000000</td>\n",
       "      <td>19326.000000</td>\n",
       "      <td>19326.00000</td>\n",
       "      <td>19326.000000</td>\n",
       "      <td>19326.000000</td>\n",
       "      <td>1.932600e+04</td>\n",
       "      <td>19326.000000</td>\n",
       "    </tr>\n",
       "    <tr>\n",
       "      <th>mean</th>\n",
       "      <td>58.143382</td>\n",
       "      <td>0.616015</td>\n",
       "      <td>0.584205</td>\n",
       "      <td>5.191918</td>\n",
       "      <td>-8.605741</td>\n",
       "      <td>0.645296</td>\n",
       "      <td>0.107348</td>\n",
       "      <td>0.308685</td>\n",
       "      <td>0.102174</td>\n",
       "      <td>0.18246</td>\n",
       "      <td>0.491403</td>\n",
       "      <td>119.792183</td>\n",
       "      <td>2.086390e+05</td>\n",
       "      <td>3.896357</td>\n",
       "    </tr>\n",
       "    <tr>\n",
       "      <th>std</th>\n",
       "      <td>19.905058</td>\n",
       "      <td>0.179857</td>\n",
       "      <td>0.236896</td>\n",
       "      <td>3.568623</td>\n",
       "      <td>5.803629</td>\n",
       "      <td>0.478436</td>\n",
       "      <td>0.111760</td>\n",
       "      <td>0.321939</td>\n",
       "      <td>0.266967</td>\n",
       "      <td>0.14711</td>\n",
       "      <td>0.242766</td>\n",
       "      <td>30.973031</td>\n",
       "      <td>6.609247e+04</td>\n",
       "      <td>0.461137</td>\n",
       "    </tr>\n",
       "    <tr>\n",
       "      <th>min</th>\n",
       "      <td>0.000000</td>\n",
       "      <td>0.000000</td>\n",
       "      <td>0.000020</td>\n",
       "      <td>0.000000</td>\n",
       "      <td>-54.376000</td>\n",
       "      <td>0.000000</td>\n",
       "      <td>0.000000</td>\n",
       "      <td>0.000000</td>\n",
       "      <td>0.000000</td>\n",
       "      <td>0.00000</td>\n",
       "      <td>0.000000</td>\n",
       "      <td>0.000000</td>\n",
       "      <td>3.339000e+03</td>\n",
       "      <td>0.000000</td>\n",
       "    </tr>\n",
       "    <tr>\n",
       "      <th>25%</th>\n",
       "      <td>55.000000</td>\n",
       "      <td>0.507000</td>\n",
       "      <td>0.443000</td>\n",
       "      <td>2.000000</td>\n",
       "      <td>-9.714000</td>\n",
       "      <td>0.000000</td>\n",
       "      <td>0.038200</td>\n",
       "      <td>0.039500</td>\n",
       "      <td>0.000000</td>\n",
       "      <td>0.09670</td>\n",
       "      <td>0.304000</td>\n",
       "      <td>94.986250</td>\n",
       "      <td>1.727630e+05</td>\n",
       "      <td>4.000000</td>\n",
       "    </tr>\n",
       "    <tr>\n",
       "      <th>50%</th>\n",
       "      <td>64.000000</td>\n",
       "      <td>0.638000</td>\n",
       "      <td>0.620000</td>\n",
       "      <td>5.000000</td>\n",
       "      <td>-6.816000</td>\n",
       "      <td>1.000000</td>\n",
       "      <td>0.056500</td>\n",
       "      <td>0.175000</td>\n",
       "      <td>0.000002</td>\n",
       "      <td>0.12200</td>\n",
       "      <td>0.490000</td>\n",
       "      <td>119.892000</td>\n",
       "      <td>2.048350e+05</td>\n",
       "      <td>4.000000</td>\n",
       "    </tr>\n",
       "    <tr>\n",
       "      <th>75%</th>\n",
       "      <td>70.000000</td>\n",
       "      <td>0.748000</td>\n",
       "      <td>0.765000</td>\n",
       "      <td>8.000000</td>\n",
       "      <td>-5.085000</td>\n",
       "      <td>1.000000</td>\n",
       "      <td>0.127000</td>\n",
       "      <td>0.517000</td>\n",
       "      <td>0.001130</td>\n",
       "      <td>0.21900</td>\n",
       "      <td>0.678000</td>\n",
       "      <td>140.067750</td>\n",
       "      <td>2.370200e+05</td>\n",
       "      <td>4.000000</td>\n",
       "    </tr>\n",
       "    <tr>\n",
       "      <th>max</th>\n",
       "      <td>100.000000</td>\n",
       "      <td>0.985000</td>\n",
       "      <td>1.000000</td>\n",
       "      <td>11.000000</td>\n",
       "      <td>1.060000</td>\n",
       "      <td>1.000000</td>\n",
       "      <td>0.954000</td>\n",
       "      <td>0.996000</td>\n",
       "      <td>1.000000</td>\n",
       "      <td>0.99300</td>\n",
       "      <td>1.000000</td>\n",
       "      <td>230.401000</td>\n",
       "      <td>1.167000e+06</td>\n",
       "      <td>5.000000</td>\n",
       "    </tr>\n",
       "  </tbody>\n",
       "</table>\n",
       "</div>"
      ],
      "text/plain": [
       "         popularity  danceability        energy           key      loudness  \\\n",
       "count  19326.000000  19326.000000  19326.000000  19326.000000  19326.000000   \n",
       "mean      58.143382      0.616015      0.584205      5.191918     -8.605741   \n",
       "std       19.905058      0.179857      0.236896      3.568623      5.803629   \n",
       "min        0.000000      0.000000      0.000020      0.000000    -54.376000   \n",
       "25%       55.000000      0.507000      0.443000      2.000000     -9.714000   \n",
       "50%       64.000000      0.638000      0.620000      5.000000     -6.816000   \n",
       "75%       70.000000      0.748000      0.765000      8.000000     -5.085000   \n",
       "max      100.000000      0.985000      1.000000     11.000000      1.060000   \n",
       "\n",
       "               mode   speechiness  acousticness  instrumentalness  \\\n",
       "count  19326.000000  19326.000000  19326.000000      19326.000000   \n",
       "mean       0.645296      0.107348      0.308685          0.102174   \n",
       "std        0.478436      0.111760      0.321939          0.266967   \n",
       "min        0.000000      0.000000      0.000000          0.000000   \n",
       "25%        0.000000      0.038200      0.039500          0.000000   \n",
       "50%        1.000000      0.056500      0.175000          0.000002   \n",
       "75%        1.000000      0.127000      0.517000          0.001130   \n",
       "max        1.000000      0.954000      0.996000          1.000000   \n",
       "\n",
       "          liveness       valence         tempo  duration_ms.y  time_signature  \n",
       "count  19326.00000  19326.000000  19326.000000   1.932600e+04    19326.000000  \n",
       "mean       0.18246      0.491403    119.792183   2.086390e+05        3.896357  \n",
       "std        0.14711      0.242766     30.973031   6.609247e+04        0.461137  \n",
       "min        0.00000      0.000000      0.000000   3.339000e+03        0.000000  \n",
       "25%        0.09670      0.304000     94.986250   1.727630e+05        4.000000  \n",
       "50%        0.12200      0.490000    119.892000   2.048350e+05        4.000000  \n",
       "75%        0.21900      0.678000    140.067750   2.370200e+05        4.000000  \n",
       "max        0.99300      1.000000    230.401000   1.167000e+06        5.000000  "
      ]
     },
     "execution_count": 98,
     "metadata": {},
     "output_type": "execute_result"
    }
   ],
   "source": [
    "# Describing our data\n",
    "data_raw.describe()"
   ]
  },
  {
   "cell_type": "markdown",
   "metadata": {},
   "source": [
    "It is not trivial to see how our data is distributed individually with so many scales. In this sense, it's better to normalize our data. Since we have some categorical features and we want to compare different features attributes, our best shot is MinMaxScaler."
   ]
  },
  {
   "cell_type": "markdown",
   "metadata": {},
   "source": [
    "## 3 Preprocessing data"
   ]
  },
  {
   "cell_type": "markdown",
   "metadata": {},
   "source": [
    "Before normalizing our data, let's handle our categorical features. A Scikit Learn model does not handle categorical data automatically."
   ]
  },
  {
   "cell_type": "markdown",
   "metadata": {},
   "source": [
    "### 3.1. Preprocessing data I: categorical data and normalization"
   ]
  },
  {
   "cell_type": "markdown",
   "metadata": {},
   "source": [
    "Since we don't have so many remaining categorical columns, pandas \"get_dummies\" should do the job. We don't want to have perfect collinearity between categorical variables, so its important to drop one of the binary new variables."
   ]
  },
  {
   "cell_type": "code",
   "execution_count": 99,
   "metadata": {},
   "outputs": [],
   "source": [
    "# Using one hot encoding to handle categorical data\n",
    "data_raw = pd.get_dummies(data_raw, drop_first = True)"
   ]
  },
  {
   "cell_type": "markdown",
   "metadata": {},
   "source": [
    "We don't want to normalize popularity, so we are going to separate it from the rest of the dataset."
   ]
  },
  {
   "cell_type": "code",
   "execution_count": 100,
   "metadata": {},
   "outputs": [],
   "source": [
    "# Getting features and target\n",
    "X = data_raw.drop(['popularity'], axis = 1)\n",
    "y = data_raw.popularity\n",
    "\n",
    "# Getting X_columns\n",
    "X_columns = X.columns"
   ]
  },
  {
   "cell_type": "markdown",
   "metadata": {},
   "source": [
    "Now we can use Scikit-Learn function \"MinMaxScaler\" to normalize our data."
   ]
  },
  {
   "cell_type": "code",
   "execution_count": 101,
   "metadata": {},
   "outputs": [],
   "source": [
    "# Normalizing data\n",
    "mme = MinMaxScaler()\n",
    "X = pd.DataFrame(mme.fit_transform(X))\n",
    "X.columns = X_columns"
   ]
  },
  {
   "cell_type": "markdown",
   "metadata": {},
   "source": [
    "It is easier now to compare features standard deviation."
   ]
  },
  {
   "cell_type": "code",
   "execution_count": 102,
   "metadata": {},
   "outputs": [
    {
     "data": {
      "text/html": [
       "<div>\n",
       "<style scoped>\n",
       "    .dataframe tbody tr th:only-of-type {\n",
       "        vertical-align: middle;\n",
       "    }\n",
       "\n",
       "    .dataframe tbody tr th {\n",
       "        vertical-align: top;\n",
       "    }\n",
       "\n",
       "    .dataframe thead th {\n",
       "        text-align: right;\n",
       "    }\n",
       "</style>\n",
       "<table border=\"1\" class=\"dataframe\">\n",
       "  <thead>\n",
       "    <tr style=\"text-align: right;\">\n",
       "      <th></th>\n",
       "      <th>danceability</th>\n",
       "      <th>energy</th>\n",
       "      <th>key</th>\n",
       "      <th>loudness</th>\n",
       "      <th>mode</th>\n",
       "      <th>speechiness</th>\n",
       "      <th>acousticness</th>\n",
       "      <th>instrumentalness</th>\n",
       "      <th>liveness</th>\n",
       "      <th>valence</th>\n",
       "      <th>tempo</th>\n",
       "      <th>duration_ms.y</th>\n",
       "      <th>time_signature</th>\n",
       "      <th>explicit_TRUE</th>\n",
       "      <th>album.album_type_compilation</th>\n",
       "      <th>album.album_type_single</th>\n",
       "    </tr>\n",
       "  </thead>\n",
       "  <tbody>\n",
       "    <tr>\n",
       "      <th>count</th>\n",
       "      <td>19326.000000</td>\n",
       "      <td>19326.000000</td>\n",
       "      <td>19326.000000</td>\n",
       "      <td>19326.000000</td>\n",
       "      <td>19326.000000</td>\n",
       "      <td>19326.000000</td>\n",
       "      <td>19326.000000</td>\n",
       "      <td>19326.000000</td>\n",
       "      <td>19326.000000</td>\n",
       "      <td>19326.000000</td>\n",
       "      <td>19326.000000</td>\n",
       "      <td>19326.000000</td>\n",
       "      <td>19326.000000</td>\n",
       "      <td>19326.000000</td>\n",
       "      <td>19326.000000</td>\n",
       "      <td>19326.000000</td>\n",
       "    </tr>\n",
       "    <tr>\n",
       "      <th>mean</th>\n",
       "      <td>0.625396</td>\n",
       "      <td>0.584197</td>\n",
       "      <td>0.471993</td>\n",
       "      <td>0.825641</td>\n",
       "      <td>0.645296</td>\n",
       "      <td>0.112524</td>\n",
       "      <td>0.309924</td>\n",
       "      <td>0.102174</td>\n",
       "      <td>0.183746</td>\n",
       "      <td>0.491403</td>\n",
       "      <td>0.519929</td>\n",
       "      <td>0.176426</td>\n",
       "      <td>0.779271</td>\n",
       "      <td>0.298768</td>\n",
       "      <td>0.031098</td>\n",
       "      <td>0.258564</td>\n",
       "    </tr>\n",
       "    <tr>\n",
       "      <th>std</th>\n",
       "      <td>0.182596</td>\n",
       "      <td>0.236901</td>\n",
       "      <td>0.324420</td>\n",
       "      <td>0.104691</td>\n",
       "      <td>0.478436</td>\n",
       "      <td>0.117149</td>\n",
       "      <td>0.323232</td>\n",
       "      <td>0.266967</td>\n",
       "      <td>0.148147</td>\n",
       "      <td>0.242766</td>\n",
       "      <td>0.134431</td>\n",
       "      <td>0.056797</td>\n",
       "      <td>0.092227</td>\n",
       "      <td>0.457730</td>\n",
       "      <td>0.173587</td>\n",
       "      <td>0.437857</td>\n",
       "    </tr>\n",
       "    <tr>\n",
       "      <th>min</th>\n",
       "      <td>0.000000</td>\n",
       "      <td>0.000000</td>\n",
       "      <td>0.000000</td>\n",
       "      <td>0.000000</td>\n",
       "      <td>0.000000</td>\n",
       "      <td>0.000000</td>\n",
       "      <td>0.000000</td>\n",
       "      <td>0.000000</td>\n",
       "      <td>0.000000</td>\n",
       "      <td>0.000000</td>\n",
       "      <td>0.000000</td>\n",
       "      <td>0.000000</td>\n",
       "      <td>0.000000</td>\n",
       "      <td>0.000000</td>\n",
       "      <td>0.000000</td>\n",
       "      <td>0.000000</td>\n",
       "    </tr>\n",
       "    <tr>\n",
       "      <th>25%</th>\n",
       "      <td>0.514721</td>\n",
       "      <td>0.442989</td>\n",
       "      <td>0.181818</td>\n",
       "      <td>0.805650</td>\n",
       "      <td>0.000000</td>\n",
       "      <td>0.040042</td>\n",
       "      <td>0.039659</td>\n",
       "      <td>0.000000</td>\n",
       "      <td>0.097382</td>\n",
       "      <td>0.304000</td>\n",
       "      <td>0.412265</td>\n",
       "      <td>0.145596</td>\n",
       "      <td>0.800000</td>\n",
       "      <td>0.000000</td>\n",
       "      <td>0.000000</td>\n",
       "      <td>0.000000</td>\n",
       "    </tr>\n",
       "    <tr>\n",
       "      <th>50%</th>\n",
       "      <td>0.647716</td>\n",
       "      <td>0.619992</td>\n",
       "      <td>0.454545</td>\n",
       "      <td>0.857926</td>\n",
       "      <td>1.000000</td>\n",
       "      <td>0.059224</td>\n",
       "      <td>0.175703</td>\n",
       "      <td>0.000002</td>\n",
       "      <td>0.122860</td>\n",
       "      <td>0.490000</td>\n",
       "      <td>0.520362</td>\n",
       "      <td>0.173157</td>\n",
       "      <td>0.800000</td>\n",
       "      <td>0.000000</td>\n",
       "      <td>0.000000</td>\n",
       "      <td>0.000000</td>\n",
       "    </tr>\n",
       "    <tr>\n",
       "      <th>75%</th>\n",
       "      <td>0.759391</td>\n",
       "      <td>0.764995</td>\n",
       "      <td>0.727273</td>\n",
       "      <td>0.889151</td>\n",
       "      <td>1.000000</td>\n",
       "      <td>0.133124</td>\n",
       "      <td>0.519076</td>\n",
       "      <td>0.001130</td>\n",
       "      <td>0.220544</td>\n",
       "      <td>0.678000</td>\n",
       "      <td>0.607930</td>\n",
       "      <td>0.200815</td>\n",
       "      <td>0.800000</td>\n",
       "      <td>1.000000</td>\n",
       "      <td>0.000000</td>\n",
       "      <td>1.000000</td>\n",
       "    </tr>\n",
       "    <tr>\n",
       "      <th>max</th>\n",
       "      <td>1.000000</td>\n",
       "      <td>1.000000</td>\n",
       "      <td>1.000000</td>\n",
       "      <td>1.000000</td>\n",
       "      <td>1.000000</td>\n",
       "      <td>1.000000</td>\n",
       "      <td>1.000000</td>\n",
       "      <td>1.000000</td>\n",
       "      <td>1.000000</td>\n",
       "      <td>1.000000</td>\n",
       "      <td>1.000000</td>\n",
       "      <td>1.000000</td>\n",
       "      <td>1.000000</td>\n",
       "      <td>1.000000</td>\n",
       "      <td>1.000000</td>\n",
       "      <td>1.000000</td>\n",
       "    </tr>\n",
       "  </tbody>\n",
       "</table>\n",
       "</div>"
      ],
      "text/plain": [
       "       danceability        energy           key      loudness          mode  \\\n",
       "count  19326.000000  19326.000000  19326.000000  19326.000000  19326.000000   \n",
       "mean       0.625396      0.584197      0.471993      0.825641      0.645296   \n",
       "std        0.182596      0.236901      0.324420      0.104691      0.478436   \n",
       "min        0.000000      0.000000      0.000000      0.000000      0.000000   \n",
       "25%        0.514721      0.442989      0.181818      0.805650      0.000000   \n",
       "50%        0.647716      0.619992      0.454545      0.857926      1.000000   \n",
       "75%        0.759391      0.764995      0.727273      0.889151      1.000000   \n",
       "max        1.000000      1.000000      1.000000      1.000000      1.000000   \n",
       "\n",
       "        speechiness  acousticness  instrumentalness      liveness  \\\n",
       "count  19326.000000  19326.000000      19326.000000  19326.000000   \n",
       "mean       0.112524      0.309924          0.102174      0.183746   \n",
       "std        0.117149      0.323232          0.266967      0.148147   \n",
       "min        0.000000      0.000000          0.000000      0.000000   \n",
       "25%        0.040042      0.039659          0.000000      0.097382   \n",
       "50%        0.059224      0.175703          0.000002      0.122860   \n",
       "75%        0.133124      0.519076          0.001130      0.220544   \n",
       "max        1.000000      1.000000          1.000000      1.000000   \n",
       "\n",
       "            valence         tempo  duration_ms.y  time_signature  \\\n",
       "count  19326.000000  19326.000000   19326.000000    19326.000000   \n",
       "mean       0.491403      0.519929       0.176426        0.779271   \n",
       "std        0.242766      0.134431       0.056797        0.092227   \n",
       "min        0.000000      0.000000       0.000000        0.000000   \n",
       "25%        0.304000      0.412265       0.145596        0.800000   \n",
       "50%        0.490000      0.520362       0.173157        0.800000   \n",
       "75%        0.678000      0.607930       0.200815        0.800000   \n",
       "max        1.000000      1.000000       1.000000        1.000000   \n",
       "\n",
       "       explicit_TRUE  album.album_type_compilation  album.album_type_single  \n",
       "count   19326.000000                  19326.000000             19326.000000  \n",
       "mean        0.298768                      0.031098                 0.258564  \n",
       "std         0.457730                      0.173587                 0.437857  \n",
       "min         0.000000                      0.000000                 0.000000  \n",
       "25%         0.000000                      0.000000                 0.000000  \n",
       "50%         0.000000                      0.000000                 0.000000  \n",
       "75%         1.000000                      0.000000                 1.000000  \n",
       "max         1.000000                      1.000000                 1.000000  "
      ]
     },
     "execution_count": 102,
     "metadata": {},
     "output_type": "execute_result"
    }
   ],
   "source": [
    "# Getting general statistics\n",
    "X.describe()"
   ]
  },
  {
   "cell_type": "markdown",
   "metadata": {},
   "source": [
    "Some features have high variance, such as: mode, acousticness, key, valence and energy. We hope that these features can aggregate to the model performance."
   ]
  },
  {
   "cell_type": "markdown",
   "metadata": {},
   "source": [
    "### 3.2. Preprocessing data II: separating into train and test datasets"
   ]
  },
  {
   "cell_type": "markdown",
   "metadata": {},
   "source": [
    "We need to evaluate our model performance. It is only possible if we divide our dataset into train and test datasets. We'll use Scikit-Learn function \"train_test_split\" to do it."
   ]
  },
  {
   "cell_type": "code",
   "execution_count": 103,
   "metadata": {},
   "outputs": [],
   "source": [
    "# Separating data\n",
    "X_train, X_test, y_train, y_test = train_test_split(X, y, test_size = 0.2, random_state = 1924)"
   ]
  },
  {
   "cell_type": "markdown",
   "metadata": {},
   "source": [
    "## 4. Benchmark model"
   ]
  },
  {
   "cell_type": "markdown",
   "metadata": {},
   "source": [
    "In this session we will develop a benchmark model. The model chosen as a benchmark is the most simple and known regressor in Machine Learning: linear regression. We'll train the model and evaluate its performance. It will be used as a benchmark to look for more complex models aiming to improve the precision of our model."
   ]
  },
  {
   "cell_type": "markdown",
   "metadata": {},
   "source": [
    "### 4.1. Instanciating and training the model"
   ]
  },
  {
   "cell_type": "code",
   "execution_count": 104,
   "metadata": {},
   "outputs": [],
   "source": [
    "# Instanciating linear regressor\n",
    "lm = LinearRegression()"
   ]
  },
  {
   "cell_type": "code",
   "execution_count": 105,
   "metadata": {},
   "outputs": [],
   "source": [
    "# Training linear regressor and getting predictions\n",
    "lm.fit(X_train, y_train)\n",
    "y_pred = lm.predict(X_test)"
   ]
  },
  {
   "cell_type": "markdown",
   "metadata": {},
   "source": [
    "Let's see how well it performed.\n",
    "\n",
    "Since we'll need to visualize model performance recurrently, it will be useful to create a function to handle it automatically."
   ]
  },
  {
   "cell_type": "code",
   "execution_count": 106,
   "metadata": {},
   "outputs": [],
   "source": [
    "# Defining function to get metrics\n",
    "def get_metrics(name, y_test, y_pred):\n",
    "    \"\"\"Calculate and print main regression metrics\"\"\"\n",
    "    # Getting main regression metrics\n",
    "    name = name\n",
    "    MAE = mean_absolute_error(y_test, y_pred)\n",
    "    MSE = mean_squared_error(y_test, y_pred)\n",
    "    RMSE = np.sqrt(MSE)\n",
    "    R2 = r2_score(y_test, y_pred)\n",
    "\n",
    "    # Printing the results\n",
    "    print('MODEL: {}'.format(name))\n",
    "    print('Mean Absolute Error: {}'.format(MAE))\n",
    "    print('Mean Squared Error: {}'.format(MSE))\n",
    "    print('Root Mean Squared Error: {}'.format(RMSE))\n",
    "    print('R-Squared: {}'.format(R2))\n",
    "    \n",
    "    return [name, MAE, MSE, RMSE, R2]"
   ]
  },
  {
   "cell_type": "code",
   "execution_count": 107,
   "metadata": {},
   "outputs": [
    {
     "name": "stdout",
     "output_type": "stream",
     "text": [
      "MODEL: Linear Regression\n",
      "Mean Absolute Error: 12.641123120807896\n",
      "Mean Squared Error: 315.57581075679354\n",
      "Root Mean Squared Error: 17.764453573267982\n",
      "R-Squared: 0.20384604199921674\n"
     ]
    },
    {
     "data": {
      "text/plain": [
       "['Linear Regression',\n",
       " 12.641123120807896,\n",
       " 315.57581075679354,\n",
       " 17.764453573267982,\n",
       " 0.20384604199921674]"
      ]
     },
     "execution_count": 107,
     "metadata": {},
     "output_type": "execute_result"
    }
   ],
   "source": [
    "# Getting benchmark model results\n",
    "get_metrics('Linear Regression', y_test, y_pred)"
   ]
  },
  {
   "cell_type": "markdown",
   "metadata": {},
   "source": [
    "Our benchmark model did not performed too good. Although we have a low RMSE (16.58) our R-Squared is too low. It means that our Linear Regressor did not fit too well to the data. It simply could not capture its variance. We may look for more complex models that may improve our RMSE and R-Squared results."
   ]
  },
  {
   "cell_type": "markdown",
   "metadata": {},
   "source": [
    "## 5. Improving our modelling: looking for more complex ML models"
   ]
  },
  {
   "cell_type": "markdown",
   "metadata": {},
   "source": [
    "We have chosen the following models to test: K-Neighbors Regression, Lasso Regression, Ridge Regression, Decision Tree Regression, Random Forest Regression, Extra Trees Regression, Gradient Boosting Regression an Adaboost Regression. The best way to choose between different models is to simply test them. Scikit Learn framework makes it easy to implement a bunch of models in a row. That's what what we are going to to next!"
   ]
  },
  {
   "cell_type": "code",
   "execution_count": 108,
   "metadata": {},
   "outputs": [],
   "source": [
    "# Instanciating models\n",
    "knr = KNeighborsRegressor()\n",
    "lasso = Lasso()\n",
    "ridge = Ridge()\n",
    "dtr = DecisionTreeRegressor()\n",
    "rfr = RandomForestRegressor()\n",
    "etr = ExtraTreesRegressor()\n",
    "gbr = GradientBoostingRegressor()\n",
    "abr = AdaBoostRegressor()\n",
    "\n",
    "model_list = [knr, lasso, ridge, dtr, rfr, etr, gbr, abr]"
   ]
  },
  {
   "cell_type": "markdown",
   "metadata": {},
   "source": [
    "Thanks to Scikit Learn methods to train a model and predict results from them, we can build a function to train a couple of models in a row."
   ]
  },
  {
   "cell_type": "code",
   "execution_count": 109,
   "metadata": {},
   "outputs": [],
   "source": [
    "# Defining function to train multiple models\n",
    "def model_training(X_train, y_train, X_test, y_test, y_pred, model_list):\n",
    "    \"\"\"Train\"\"\"\n",
    "    model_list = model_list\n",
    "    score_list = []\n",
    "\n",
    "    for model in model_list:\n",
    "        model.fit(X_train, y_train)\n",
    "        y_pred = model.predict(X_test)\n",
    "        score = get_metrics(model, y_test, y_pred)\n",
    "        score_list.append(score)\n",
    "        \n",
    "    return pd.DataFrame(score_list, columns = ['Name', 'MAE', 'MSE', 'RMSE', 'R-squared'])"
   ]
  },
  {
   "cell_type": "code",
   "execution_count": 110,
   "metadata": {},
   "outputs": [
    {
     "name": "stdout",
     "output_type": "stream",
     "text": [
      "MODEL: KNeighborsRegressor(algorithm='auto', leaf_size=30, metric='minkowski',\n",
      "                    metric_params=None, n_jobs=None, n_neighbors=5, p=2,\n",
      "                    weights='uniform')\n",
      "Mean Absolute Error: 10.44692188308329\n",
      "Mean Squared Error: 236.34951888256595\n",
      "Root Mean Squared Error: 15.373663157574578\n",
      "R-Squared: 0.40372297712338234\n",
      "MODEL: Lasso(alpha=1.0, copy_X=True, fit_intercept=True, max_iter=1000,\n",
      "      normalize=False, positive=False, precompute=False, random_state=None,\n",
      "      selection='cyclic', tol=0.0001, warm_start=False)\n",
      "Mean Absolute Error: 12.920056920893778\n",
      "Mean Squared Error: 350.1950339407009\n",
      "Root Mean Squared Error: 18.7134987092393\n",
      "R-Squared: 0.11650654821899853\n",
      "MODEL: Ridge(alpha=1.0, copy_X=True, fit_intercept=True, max_iter=None,\n",
      "      normalize=False, random_state=None, solver='auto', tol=0.001)\n",
      "Mean Absolute Error: 12.641359730120438\n",
      "Mean Squared Error: 315.5773361243572\n",
      "Root Mean Squared Error: 17.76449650635664\n",
      "R-Squared: 0.203842193708626\n",
      "MODEL: DecisionTreeRegressor(ccp_alpha=0.0, criterion='mse', max_depth=None,\n",
      "                      max_features=None, max_leaf_nodes=None,\n",
      "                      min_impurity_decrease=0.0, min_impurity_split=None,\n",
      "                      min_samples_leaf=1, min_samples_split=2,\n",
      "                      min_weight_fraction_leaf=0.0, presort='deprecated',\n",
      "                      random_state=None, splitter='best')\n",
      "Mean Absolute Error: 12.04374370886916\n",
      "Mean Squared Error: 329.6010346250649\n",
      "Root Mean Squared Error: 18.154917643026227\n",
      "R-Squared: 0.1684623493524542\n",
      "MODEL: RandomForestRegressor(bootstrap=True, ccp_alpha=0.0, criterion='mse',\n",
      "                      max_depth=None, max_features='auto', max_leaf_nodes=None,\n",
      "                      max_samples=None, min_impurity_decrease=0.0,\n",
      "                      min_impurity_split=None, min_samples_leaf=1,\n",
      "                      min_samples_split=2, min_weight_fraction_leaf=0.0,\n",
      "                      n_estimators=100, n_jobs=None, oob_score=False,\n",
      "                      random_state=None, verbose=0, warm_start=False)\n",
      "Mean Absolute Error: 8.929837110970483\n",
      "Mean Squared Error: 169.2053084879179\n",
      "Root Mean Squared Error: 13.007894083513976\n",
      "R-Squared: 0.5731184980739233\n",
      "MODEL: ExtraTreesRegressor(bootstrap=False, ccp_alpha=0.0, criterion='mse',\n",
      "                    max_depth=None, max_features='auto', max_leaf_nodes=None,\n",
      "                    max_samples=None, min_impurity_decrease=0.0,\n",
      "                    min_impurity_split=None, min_samples_leaf=1,\n",
      "                    min_samples_split=2, min_weight_fraction_leaf=0.0,\n",
      "                    n_estimators=100, n_jobs=None, oob_score=False,\n",
      "                    random_state=None, verbose=0, warm_start=False)\n",
      "Mean Absolute Error: 8.700244167067629\n",
      "Mean Squared Error: 162.42541074636827\n",
      "Root Mean Squared Error: 12.744622816951793\n",
      "R-Squared: 0.5902232387979687\n",
      "MODEL: GradientBoostingRegressor(alpha=0.9, ccp_alpha=0.0, criterion='friedman_mse',\n",
      "                          init=None, learning_rate=0.1, loss='ls', max_depth=3,\n",
      "                          max_features=None, max_leaf_nodes=None,\n",
      "                          min_impurity_decrease=0.0, min_impurity_split=None,\n",
      "                          min_samples_leaf=1, min_samples_split=2,\n",
      "                          min_weight_fraction_leaf=0.0, n_estimators=100,\n",
      "                          n_iter_no_change=None, presort='deprecated',\n",
      "                          random_state=None, subsample=1.0, tol=0.0001,\n",
      "                          validation_fraction=0.1, verbose=0, warm_start=False)\n",
      "Mean Absolute Error: 10.781649312102726\n",
      "Mean Squared Error: 240.8642714605398\n",
      "Root Mean Squared Error: 15.519802558684173\n",
      "R-Squared: 0.39233288316868997\n",
      "MODEL: AdaBoostRegressor(base_estimator=None, learning_rate=1.0, loss='linear',\n",
      "                  n_estimators=50, random_state=None)\n",
      "Mean Absolute Error: 15.606584035483264\n",
      "Mean Squared Error: 368.5382439324159\n",
      "Root Mean Squared Error: 19.19734991951795\n",
      "R-Squared: 0.07022917606451995\n"
     ]
    },
    {
     "data": {
      "text/html": [
       "<div>\n",
       "<style scoped>\n",
       "    .dataframe tbody tr th:only-of-type {\n",
       "        vertical-align: middle;\n",
       "    }\n",
       "\n",
       "    .dataframe tbody tr th {\n",
       "        vertical-align: top;\n",
       "    }\n",
       "\n",
       "    .dataframe thead th {\n",
       "        text-align: right;\n",
       "    }\n",
       "</style>\n",
       "<table border=\"1\" class=\"dataframe\">\n",
       "  <thead>\n",
       "    <tr style=\"text-align: right;\">\n",
       "      <th></th>\n",
       "      <th>Name</th>\n",
       "      <th>MAE</th>\n",
       "      <th>MSE</th>\n",
       "      <th>RMSE</th>\n",
       "      <th>R-squared</th>\n",
       "    </tr>\n",
       "  </thead>\n",
       "  <tbody>\n",
       "    <tr>\n",
       "      <th>0</th>\n",
       "      <td>KNeighborsRegressor(algorithm='auto', leaf_siz...</td>\n",
       "      <td>10.446922</td>\n",
       "      <td>236.349519</td>\n",
       "      <td>15.373663</td>\n",
       "      <td>0.403723</td>\n",
       "    </tr>\n",
       "    <tr>\n",
       "      <th>1</th>\n",
       "      <td>Lasso(alpha=1.0, copy_X=True, fit_intercept=Tr...</td>\n",
       "      <td>12.920057</td>\n",
       "      <td>350.195034</td>\n",
       "      <td>18.713499</td>\n",
       "      <td>0.116507</td>\n",
       "    </tr>\n",
       "    <tr>\n",
       "      <th>2</th>\n",
       "      <td>Ridge(alpha=1.0, copy_X=True, fit_intercept=Tr...</td>\n",
       "      <td>12.641360</td>\n",
       "      <td>315.577336</td>\n",
       "      <td>17.764497</td>\n",
       "      <td>0.203842</td>\n",
       "    </tr>\n",
       "    <tr>\n",
       "      <th>3</th>\n",
       "      <td>DecisionTreeRegressor(ccp_alpha=0.0, criterion...</td>\n",
       "      <td>12.043744</td>\n",
       "      <td>329.601035</td>\n",
       "      <td>18.154918</td>\n",
       "      <td>0.168462</td>\n",
       "    </tr>\n",
       "    <tr>\n",
       "      <th>4</th>\n",
       "      <td>(DecisionTreeRegressor(ccp_alpha=0.0, criterio...</td>\n",
       "      <td>8.929837</td>\n",
       "      <td>169.205308</td>\n",
       "      <td>13.007894</td>\n",
       "      <td>0.573118</td>\n",
       "    </tr>\n",
       "    <tr>\n",
       "      <th>5</th>\n",
       "      <td>(ExtraTreeRegressor(ccp_alpha=0.0, criterion='...</td>\n",
       "      <td>8.700244</td>\n",
       "      <td>162.425411</td>\n",
       "      <td>12.744623</td>\n",
       "      <td>0.590223</td>\n",
       "    </tr>\n",
       "    <tr>\n",
       "      <th>6</th>\n",
       "      <td>([DecisionTreeRegressor(ccp_alpha=0.0, criteri...</td>\n",
       "      <td>10.781649</td>\n",
       "      <td>240.864271</td>\n",
       "      <td>15.519803</td>\n",
       "      <td>0.392333</td>\n",
       "    </tr>\n",
       "    <tr>\n",
       "      <th>7</th>\n",
       "      <td>(DecisionTreeRegressor(ccp_alpha=0.0, criterio...</td>\n",
       "      <td>15.606584</td>\n",
       "      <td>368.538244</td>\n",
       "      <td>19.197350</td>\n",
       "      <td>0.070229</td>\n",
       "    </tr>\n",
       "  </tbody>\n",
       "</table>\n",
       "</div>"
      ],
      "text/plain": [
       "                                                Name        MAE         MSE  \\\n",
       "0  KNeighborsRegressor(algorithm='auto', leaf_siz...  10.446922  236.349519   \n",
       "1  Lasso(alpha=1.0, copy_X=True, fit_intercept=Tr...  12.920057  350.195034   \n",
       "2  Ridge(alpha=1.0, copy_X=True, fit_intercept=Tr...  12.641360  315.577336   \n",
       "3  DecisionTreeRegressor(ccp_alpha=0.0, criterion...  12.043744  329.601035   \n",
       "4  (DecisionTreeRegressor(ccp_alpha=0.0, criterio...   8.929837  169.205308   \n",
       "5  (ExtraTreeRegressor(ccp_alpha=0.0, criterion='...   8.700244  162.425411   \n",
       "6  ([DecisionTreeRegressor(ccp_alpha=0.0, criteri...  10.781649  240.864271   \n",
       "7  (DecisionTreeRegressor(ccp_alpha=0.0, criterio...  15.606584  368.538244   \n",
       "\n",
       "        RMSE  R-squared  \n",
       "0  15.373663   0.403723  \n",
       "1  18.713499   0.116507  \n",
       "2  17.764497   0.203842  \n",
       "3  18.154918   0.168462  \n",
       "4  13.007894   0.573118  \n",
       "5  12.744623   0.590223  \n",
       "6  15.519803   0.392333  \n",
       "7  19.197350   0.070229  "
      ]
     },
     "execution_count": 110,
     "metadata": {},
     "output_type": "execute_result"
    }
   ],
   "source": [
    "# Training multiple models and checking metric results\n",
    "base_scores = model_training(X_train, y_train,\n",
    "                            X_test, y_test, y_pred,\n",
    "                            model_list)\n",
    "\n",
    "base_scores"
   ]
  },
  {
   "cell_type": "markdown",
   "metadata": {},
   "source": [
    "As we can see, Random Forest Regression and Extra Trees Regression performed similarly well. There are no significant differences between both models. Let's stay with Random Forest since it is more well known."
   ]
  },
  {
   "cell_type": "code",
   "execution_count": 111,
   "metadata": {},
   "outputs": [
    {
     "data": {
      "text/plain": [
       "RandomForestRegressor(bootstrap=True, ccp_alpha=0.0, criterion='mse',\n",
       "                      max_depth=None, max_features='auto', max_leaf_nodes=None,\n",
       "                      max_samples=None, min_impurity_decrease=0.0,\n",
       "                      min_impurity_split=None, min_samples_leaf=1,\n",
       "                      min_samples_split=2, min_weight_fraction_leaf=0.0,\n",
       "                      n_estimators=100, n_jobs=None, oob_score=False,\n",
       "                      random_state=None, verbose=0, warm_start=False)"
      ]
     },
     "execution_count": 111,
     "metadata": {},
     "output_type": "execute_result"
    }
   ],
   "source": [
    "# Training the final model\n",
    "rfr.fit(X_train, y_train)"
   ]
  },
  {
   "cell_type": "code",
   "execution_count": 112,
   "metadata": {},
   "outputs": [],
   "source": [
    "# Getting predictions\n",
    "y_pred = rfr.predict(X_test)"
   ]
  },
  {
   "cell_type": "markdown",
   "metadata": {},
   "source": [
    "Let's find how well it performed:"
   ]
  },
  {
   "cell_type": "code",
   "execution_count": 113,
   "metadata": {},
   "outputs": [
    {
     "name": "stdout",
     "output_type": "stream",
     "text": [
      "MODEL: Random Forest Regressor\n",
      "Mean Absolute Error: 8.8871919065447\n",
      "Mean Squared Error: 167.75726290932744\n",
      "Root Mean Squared Error: 12.952114225458615\n",
      "R-Squared: 0.5767717160312681\n"
     ]
    },
    {
     "data": {
      "text/plain": [
       "['Random Forest Regressor',\n",
       " 8.8871919065447,\n",
       " 167.75726290932744,\n",
       " 12.952114225458615,\n",
       " 0.5767717160312681]"
      ]
     },
     "execution_count": 113,
     "metadata": {},
     "output_type": "execute_result"
    }
   ],
   "source": [
    "# Evaluating model\n",
    "get_metrics('Random Forest Regressor', y_test, y_pred)"
   ]
  },
  {
   "cell_type": "markdown",
   "metadata": {},
   "source": [
    "## 6. Results"
   ]
  },
  {
   "cell_type": "markdown",
   "metadata": {},
   "source": [
    "We have a model! Let's see how it performed."
   ]
  },
  {
   "cell_type": "markdown",
   "metadata": {},
   "source": [
    "### 6.1 Feature importance"
   ]
  },
  {
   "cell_type": "markdown",
   "metadata": {},
   "source": [
    "With Scikit Learn we can get the score of feature importance. Let's see what features are relevant to a song popularity."
   ]
  },
  {
   "cell_type": "code",
   "execution_count": 114,
   "metadata": {},
   "outputs": [
    {
     "name": "stdout",
     "output_type": "stream",
     "text": [
      "Feature 0 - Score: 0.07555\n",
      "Feature 1 - Score: 0.06385\n",
      "Feature 2 - Score: 0.02697\n",
      "Feature 3 - Score: 0.12096\n",
      "Feature 4 - Score: 0.00590\n",
      "Feature 5 - Score: 0.06657\n",
      "Feature 6 - Score: 0.20890\n",
      "Feature 7 - Score: 0.04403\n",
      "Feature 8 - Score: 0.05907\n",
      "Feature 9 - Score: 0.06349\n",
      "Feature 10 - Score: 0.09648\n",
      "Feature 11 - Score: 0.05360\n",
      "Feature 12 - Score: 0.00723\n",
      "Feature 13 - Score: 0.01175\n",
      "Feature 14 - Score: 0.00591\n",
      "Feature 15 - Score: 0.08975\n"
     ]
    },
    {
     "data": {
      "image/png": "[encoded data removed]",
      "text/plain": [
       "<Figure size 432x288 with 1 Axes>"
      ]
     },
     "metadata": {
      "needs_background": "light"
     },
     "output_type": "display_data"
    }
   ],
   "source": [
    "# Getting feature importances\n",
    "feature_importance = rfr.feature_importances_\n",
    "\n",
    "# Summarizing feature importance\n",
    "for i,v in enumerate(feature_importance):\n",
    "    print('Feature %0d - Score: %.5f' % (i,v))\n",
    "    \n",
    "# Plotting feature importance\n",
    "plt.bar([x for x in range(len(feature_importance))], feature_importance)\n",
    "plt.show()"
   ]
  },
  {
   "cell_type": "code",
   "execution_count": 115,
   "metadata": {},
   "outputs": [
    {
     "data": {
      "text/plain": [
       "Index(['danceability', 'energy', 'key', 'loudness', 'mode', 'speechiness',\n",
       "       'acousticness', 'instrumentalness', 'liveness', 'valence', 'tempo',\n",
       "       'duration_ms.y', 'time_signature', 'explicit_TRUE',\n",
       "       'album.album_type_compilation', 'album.album_type_single'],\n",
       "      dtype='object')"
      ]
     },
     "execution_count": 115,
     "metadata": {},
     "output_type": "execute_result"
    }
   ],
   "source": [
    "# Printing features\n",
    "X_train.columns"
   ]
  },
  {
   "cell_type": "markdown",
   "metadata": {},
   "source": [
    "As we can see, the top variables are:\n",
    "- Feature 6 (Speechiness): 20,89%\n",
    "- Feature 3 (Key): 12,10%\n",
    "- Feature 10 (Valence): 9,65%"
   ]
  },
  {
   "cell_type": "markdown",
   "metadata": {},
   "source": [
    "It seems that speechiness is a good predictor of a song's popularity. Explosions in the Sky would be sad to know this.\n",
    "\n",
    "Also Key explains a song popularity and Valence. \n",
    "\n",
    "The independent record label should take a more closer look to these variables on the next recording."
   ]
  },
  {
   "cell_type": "markdown",
   "metadata": {},
   "source": [
    "### 6.2 Comparing result to benchmark model"
   ]
  },
  {
   "cell_type": "markdown",
   "metadata": {},
   "source": [
    "Here are the general results of Linear Regression (benchmark):\n",
    "- MODEL: Linear Regression\n",
    "- Mean Absolute Error: 12.641123120807896\n",
    "- Mean Squared Error: 315.57581075679354\n",
    "- Root Mean Squared Error: 17.764453573267982\n",
    "- R-Squared: 0.20384604199921674"
   ]
  },
  {
   "cell_type": "markdown",
   "metadata": {},
   "source": [
    "And here are the results of Random Forest Regression (chosen model):\n",
    "- MODEL: Random Forest Regressor\n",
    "- Mean Absolute Error: 8.8871919065447\n",
    "- Mean Squared Error: 167.75726290932744\n",
    "- Root Mean Squared Error: 12.952114225458615\n",
    "- R-Squared: 0.5767717160312681"
   ]
  },
  {
   "cell_type": "markdown",
   "metadata": {},
   "source": [
    "Our Random Forest Regression model had a superior performance in comparison to the benchmark. It was over 30 p.p. R-squared gain over the benchmark. Also our RMSE lowered 5 p.p., indicating that this model is superior and capable of providing more accurate predictions of a song popularity."
   ]
  }
 ],
 "metadata": {
  "kernelspec": {
   "display_name": "conda_python3",
   "language": "python",
   "name": "conda_python3"
  },
  "language_info": {
   "codemirror_mode": {
    "name": "ipython",
    "version": 3
   },
   "file_extension": ".py",
   "mimetype": "text/x-python",
   "name": "python",
   "nbconvert_exporter": "python",
   "pygments_lexer": "ipython3",
   "version": "3.6.10"
  }
 },
 "nbformat": 4,
 "nbformat_minor": 4
}
